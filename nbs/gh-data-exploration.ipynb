{
 "cells": [
  {
   "cell_type": "code",
   "execution_count": 5,
   "metadata": {},
   "outputs": [],
   "source": [
    "import gdown\n",
    "import pandas as pd"
   ]
  },
  {
   "cell_type": "code",
   "execution_count": 9,
   "metadata": {},
   "outputs": [
    {
     "name": "stdout",
     "output_type": "stream",
     "text": [
      "File exists: /home/nathan/gpt-code-clippy/data/repo_infos.csv\n"
     ]
    },
    {
     "data": {
      "text/plain": [
       "'/home/nathan/gpt-code-clippy/data/repo_infos.csv'"
      ]
     },
     "execution_count": 9,
     "metadata": {},
     "output_type": "execute_result"
    }
   ],
   "source": [
    "path = \"/home/nathan/gpt-code-clippy/data/repo_infos.csv\"\n",
    "gdown.cached_download(\n",
    "    \"https://drive.google.com/uc?id=1T-eBxIZ4S8n6UiI8jdzpsmpk9KgZt793\",\n",
    "    path,\n",
    ")"
   ]
  },
  {
   "cell_type": "code",
   "execution_count": 10,
   "metadata": {},
   "outputs": [
    {
     "name": "stderr",
     "output_type": "stream",
     "text": [
      "/home/nathan/.local/lib/python3.8/site-packages/IPython/core/interactiveshell.py:3441: DtypeWarning: Columns (3) have mixed types.Specify dtype option on import or set low_memory=False.\n",
      "  exec(code_obj, self.user_global_ns, self.user_ns)\n"
     ]
    }
   ],
   "source": [
    "df = pd.read_csv(path, parse_dates=True)"
   ]
  },
  {
   "cell_type": "code",
   "execution_count": 11,
   "metadata": {},
   "outputs": [
    {
     "data": {
      "text/html": [
       "<div>\n",
       "<style scoped>\n",
       "    .dataframe tbody tr th:only-of-type {\n",
       "        vertical-align: middle;\n",
       "    }\n",
       "\n",
       "    .dataframe tbody tr th {\n",
       "        vertical-align: top;\n",
       "    }\n",
       "\n",
       "    .dataframe thead th {\n",
       "        text-align: right;\n",
       "    }\n",
       "</style>\n",
       "<table border=\"1\" class=\"dataframe\">\n",
       "  <thead>\n",
       "    <tr style=\"text-align: right;\">\n",
       "      <th></th>\n",
       "      <th>name</th>\n",
       "      <th>fork project</th>\n",
       "      <th>commits</th>\n",
       "      <th>branches</th>\n",
       "      <th>default branch</th>\n",
       "      <th>releases</th>\n",
       "      <th>contributors</th>\n",
       "      <th>license</th>\n",
       "      <th>watchers</th>\n",
       "      <th>stargazers</th>\n",
       "      <th>...</th>\n",
       "      <th>total issues</th>\n",
       "      <th>open issues</th>\n",
       "      <th>total pull requests</th>\n",
       "      <th>open pull requests</th>\n",
       "      <th>last commit</th>\n",
       "      <th>last commit SHA</th>\n",
       "      <th>has wiki</th>\n",
       "      <th>is archived</th>\n",
       "      <th>languages</th>\n",
       "      <th>labels</th>\n",
       "    </tr>\n",
       "  </thead>\n",
       "  <tbody>\n",
       "    <tr>\n",
       "      <th>0</th>\n",
       "      <td>0-1-0/lightblue-0.4</td>\n",
       "      <td>False</td>\n",
       "      <td>8</td>\n",
       "      <td>1</td>\n",
       "      <td>master</td>\n",
       "      <td>0</td>\n",
       "      <td>4</td>\n",
       "      <td>GNU General Public License v3.0</td>\n",
       "      <td>14</td>\n",
       "      <td>86</td>\n",
       "      <td>...</td>\n",
       "      <td>9</td>\n",
       "      <td>8</td>\n",
       "      <td>5</td>\n",
       "      <td>0</td>\n",
       "      <td>2020-10-18 21:26:07.0</td>\n",
       "      <td>9a4f7b37e923b262d2a29894676ff8ed8cde6237</td>\n",
       "      <td>True</td>\n",
       "      <td>False</td>\n",
       "      <td>NaN</td>\n",
       "      <td>NaN</td>\n",
       "    </tr>\n",
       "    <tr>\n",
       "      <th>1</th>\n",
       "      <td>0-14n/ndroid</td>\n",
       "      <td>False</td>\n",
       "      <td>131</td>\n",
       "      <td>1</td>\n",
       "      <td>master</td>\n",
       "      <td>0</td>\n",
       "      <td>2</td>\n",
       "      <td>Other</td>\n",
       "      <td>5</td>\n",
       "      <td>50</td>\n",
       "      <td>...</td>\n",
       "      <td>1</td>\n",
       "      <td>1</td>\n",
       "      <td>2</td>\n",
       "      <td>1</td>\n",
       "      <td>2015-03-17 13:10:07.0</td>\n",
       "      <td>4e5dbe69855a7fda8b74e61d9db5aa61e6ba9ee8</td>\n",
       "      <td>True</td>\n",
       "      <td>False</td>\n",
       "      <td>C,C++,Objective-C,Shell,Assembly,Haxe,Groff,Py...</td>\n",
       "      <td>bug,duplicate,enhancement,help wanted,invalid,...</td>\n",
       "    </tr>\n",
       "    <tr>\n",
       "      <th>2</th>\n",
       "      <td>0-duke/wdpassport-utils</td>\n",
       "      <td>False</td>\n",
       "      <td>26</td>\n",
       "      <td>1</td>\n",
       "      <td>master</td>\n",
       "      <td>0</td>\n",
       "      <td>2</td>\n",
       "      <td>GNU General Public License v2.0</td>\n",
       "      <td>16</td>\n",
       "      <td>119</td>\n",
       "      <td>...</td>\n",
       "      <td>16</td>\n",
       "      <td>4</td>\n",
       "      <td>5</td>\n",
       "      <td>2</td>\n",
       "      <td>2020-04-18 14:41:43.0</td>\n",
       "      <td>06ccac3d15732e038aab3a4534bc0c8449731158</td>\n",
       "      <td>True</td>\n",
       "      <td>False</td>\n",
       "      <td>NaN</td>\n",
       "      <td>NaN</td>\n",
       "    </tr>\n",
       "    <tr>\n",
       "      <th>3</th>\n",
       "      <td>0-sec/zero-crack</td>\n",
       "      <td>False</td>\n",
       "      <td>4</td>\n",
       "      <td>1</td>\n",
       "      <td>main</td>\n",
       "      <td>1</td>\n",
       "      <td>1</td>\n",
       "      <td>GNU General Public License v3.0</td>\n",
       "      <td>0</td>\n",
       "      <td>62</td>\n",
       "      <td>...</td>\n",
       "      <td>0</td>\n",
       "      <td>0</td>\n",
       "      <td>0</td>\n",
       "      <td>0</td>\n",
       "      <td>2021-05-12 02:03:08.0</td>\n",
       "      <td>70ee16550a81b396333565515723d5abab87c719</td>\n",
       "      <td>True</td>\n",
       "      <td>False</td>\n",
       "      <td>Python</td>\n",
       "      <td>bug,documentation,duplicate,enhancement,good f...</td>\n",
       "    </tr>\n",
       "    <tr>\n",
       "      <th>4</th>\n",
       "      <td>0-tikaro/minimum-viable-startpage</td>\n",
       "      <td>False</td>\n",
       "      <td>15</td>\n",
       "      <td>1</td>\n",
       "      <td>master</td>\n",
       "      <td>0</td>\n",
       "      <td>?</td>\n",
       "      <td>MIT License</td>\n",
       "      <td>4</td>\n",
       "      <td>56</td>\n",
       "      <td>...</td>\n",
       "      <td>0</td>\n",
       "      <td>0</td>\n",
       "      <td>2</td>\n",
       "      <td>1</td>\n",
       "      <td>2019-04-21 09:11:12.0</td>\n",
       "      <td>a4fb4aea4474d635c4e4738f7d8c1a485d5d74c8</td>\n",
       "      <td>True</td>\n",
       "      <td>False</td>\n",
       "      <td>JavaScript,CSS,HTML</td>\n",
       "      <td>bug,duplicate,enhancement,good first issue,hel...</td>\n",
       "    </tr>\n",
       "    <tr>\n",
       "      <th>5</th>\n",
       "      <td>0-u-0/dugon-media-server</td>\n",
       "      <td>False</td>\n",
       "      <td>52</td>\n",
       "      <td>1</td>\n",
       "      <td>master</td>\n",
       "      <td>5</td>\n",
       "      <td>?</td>\n",
       "      <td>MIT License</td>\n",
       "      <td>2</td>\n",
       "      <td>14</td>\n",
       "      <td>...</td>\n",
       "      <td>5</td>\n",
       "      <td>1</td>\n",
       "      <td>0</td>\n",
       "      <td>0</td>\n",
       "      <td>2020-05-16 04:11:45.0</td>\n",
       "      <td>1d6bb1c589e51d2c34b11be20d34dae4bb0c7779</td>\n",
       "      <td>True</td>\n",
       "      <td>False</td>\n",
       "      <td>JavaScript,Dockerfile</td>\n",
       "      <td>bug,documentation,duplicate,enhancement,featur...</td>\n",
       "    </tr>\n",
       "    <tr>\n",
       "      <th>6</th>\n",
       "      <td>0-x-2-2/discord-spam-bots</td>\n",
       "      <td>False</td>\n",
       "      <td>19</td>\n",
       "      <td>2</td>\n",
       "      <td>master</td>\n",
       "      <td>0</td>\n",
       "      <td>?</td>\n",
       "      <td>MIT License</td>\n",
       "      <td>6</td>\n",
       "      <td>21</td>\n",
       "      <td>...</td>\n",
       "      <td>?</td>\n",
       "      <td>?</td>\n",
       "      <td>0</td>\n",
       "      <td>0</td>\n",
       "      <td>2017-10-05 17:06:45.0</td>\n",
       "      <td>b97b73648fd04578b674af6fb40f8eb3d5dfe69f</td>\n",
       "      <td>True</td>\n",
       "      <td>True</td>\n",
       "      <td>NaN</td>\n",
       "      <td>NaN</td>\n",
       "    </tr>\n",
       "    <tr>\n",
       "      <th>7</th>\n",
       "      <td>0/msp430-rng</td>\n",
       "      <td>False</td>\n",
       "      <td>14</td>\n",
       "      <td>1</td>\n",
       "      <td>master</td>\n",
       "      <td>0</td>\n",
       "      <td>?</td>\n",
       "      <td>MIT License</td>\n",
       "      <td>4</td>\n",
       "      <td>19</td>\n",
       "      <td>...</td>\n",
       "      <td>1</td>\n",
       "      <td>0</td>\n",
       "      <td>0</td>\n",
       "      <td>0</td>\n",
       "      <td>2015-03-22 23:18:55.0</td>\n",
       "      <td>b73ca0703c5ded501b5624803a695902382c92fa</td>\n",
       "      <td>False</td>\n",
       "      <td>False</td>\n",
       "      <td>C,Makefile</td>\n",
       "      <td>NaN</td>\n",
       "    </tr>\n",
       "    <tr>\n",
       "      <th>8</th>\n",
       "      <td>00-evan/shattered-pixel-dungeon</td>\n",
       "      <td>False</td>\n",
       "      <td>4799</td>\n",
       "      <td>1</td>\n",
       "      <td>master</td>\n",
       "      <td>37</td>\n",
       "      <td>2</td>\n",
       "      <td>GNU General Public License v3.0</td>\n",
       "      <td>70</td>\n",
       "      <td>1091</td>\n",
       "      <td>...</td>\n",
       "      <td>709</td>\n",
       "      <td>10</td>\n",
       "      <td>30</td>\n",
       "      <td>0</td>\n",
       "      <td>2021-06-23 22:01:39.0</td>\n",
       "      <td>cd8abf720c9479d635e412861c0e2ad69075f739</td>\n",
       "      <td>True</td>\n",
       "      <td>False</td>\n",
       "      <td>Java</td>\n",
       "      <td>Caused by BETA,Deferred,Enhancement,Fixed in B...</td>\n",
       "    </tr>\n",
       "    <tr>\n",
       "      <th>9</th>\n",
       "      <td>00/wikihouse-controls</td>\n",
       "      <td>False</td>\n",
       "      <td>9</td>\n",
       "      <td>1</td>\n",
       "      <td>master</td>\n",
       "      <td>0</td>\n",
       "      <td>2</td>\n",
       "      <td>The Unlicense</td>\n",
       "      <td>8</td>\n",
       "      <td>14</td>\n",
       "      <td>...</td>\n",
       "      <td>?</td>\n",
       "      <td>?</td>\n",
       "      <td>?</td>\n",
       "      <td>?</td>\n",
       "      <td>2014-10-25 22:53:47.0</td>\n",
       "      <td>a76497af8dcc885473b996871543dccd6b49d04a</td>\n",
       "      <td>True</td>\n",
       "      <td>False</td>\n",
       "      <td>NaN</td>\n",
       "      <td>NaN</td>\n",
       "    </tr>\n",
       "  </tbody>\n",
       "</table>\n",
       "<p>10 rows × 27 columns</p>\n",
       "</div>"
      ],
      "text/plain": [
       "                                name  fork project  commits branches  \\\n",
       "0                0-1-0/lightblue-0.4         False        8        1   \n",
       "1                       0-14n/ndroid         False      131        1   \n",
       "2            0-duke/wdpassport-utils         False       26        1   \n",
       "3                   0-sec/zero-crack         False        4        1   \n",
       "4  0-tikaro/minimum-viable-startpage         False       15        1   \n",
       "5           0-u-0/dugon-media-server         False       52        1   \n",
       "6          0-x-2-2/discord-spam-bots         False       19        2   \n",
       "7                       0/msp430-rng         False       14        1   \n",
       "8    00-evan/shattered-pixel-dungeon         False     4799        1   \n",
       "9              00/wikihouse-controls         False        9        1   \n",
       "\n",
       "  default branch  releases contributors                          license  \\\n",
       "0         master         0            4  GNU General Public License v3.0   \n",
       "1         master         0            2                            Other   \n",
       "2         master         0            2  GNU General Public License v2.0   \n",
       "3           main         1            1  GNU General Public License v3.0   \n",
       "4         master         0            ?                      MIT License   \n",
       "5         master         5            ?                      MIT License   \n",
       "6         master         0            ?                      MIT License   \n",
       "7         master         0            ?                      MIT License   \n",
       "8         master        37            2  GNU General Public License v3.0   \n",
       "9         master         0            2                    The Unlicense   \n",
       "\n",
       "   watchers  stargazers  ...  total issues  open issues total pull requests  \\\n",
       "0        14          86  ...             9            8                   5   \n",
       "1         5          50  ...             1            1                   2   \n",
       "2        16         119  ...            16            4                   5   \n",
       "3         0          62  ...             0            0                   0   \n",
       "4         4          56  ...             0            0                   2   \n",
       "5         2          14  ...             5            1                   0   \n",
       "6         6          21  ...             ?            ?                   0   \n",
       "7         4          19  ...             1            0                   0   \n",
       "8        70        1091  ...           709           10                  30   \n",
       "9         8          14  ...             ?            ?                   ?   \n",
       "\n",
       "  open pull requests            last commit  \\\n",
       "0                  0  2020-10-18 21:26:07.0   \n",
       "1                  1  2015-03-17 13:10:07.0   \n",
       "2                  2  2020-04-18 14:41:43.0   \n",
       "3                  0  2021-05-12 02:03:08.0   \n",
       "4                  1  2019-04-21 09:11:12.0   \n",
       "5                  0  2020-05-16 04:11:45.0   \n",
       "6                  0  2017-10-05 17:06:45.0   \n",
       "7                  0  2015-03-22 23:18:55.0   \n",
       "8                  0  2021-06-23 22:01:39.0   \n",
       "9                  ?  2014-10-25 22:53:47.0   \n",
       "\n",
       "                            last commit SHA has wiki is archived  \\\n",
       "0  9a4f7b37e923b262d2a29894676ff8ed8cde6237     True       False   \n",
       "1  4e5dbe69855a7fda8b74e61d9db5aa61e6ba9ee8     True       False   \n",
       "2  06ccac3d15732e038aab3a4534bc0c8449731158     True       False   \n",
       "3  70ee16550a81b396333565515723d5abab87c719     True       False   \n",
       "4  a4fb4aea4474d635c4e4738f7d8c1a485d5d74c8     True       False   \n",
       "5  1d6bb1c589e51d2c34b11be20d34dae4bb0c7779     True       False   \n",
       "6  b97b73648fd04578b674af6fb40f8eb3d5dfe69f     True        True   \n",
       "7  b73ca0703c5ded501b5624803a695902382c92fa    False       False   \n",
       "8  cd8abf720c9479d635e412861c0e2ad69075f739     True       False   \n",
       "9  a76497af8dcc885473b996871543dccd6b49d04a     True       False   \n",
       "\n",
       "                                           languages  \\\n",
       "0                                                NaN   \n",
       "1  C,C++,Objective-C,Shell,Assembly,Haxe,Groff,Py...   \n",
       "2                                                NaN   \n",
       "3                                             Python   \n",
       "4                                JavaScript,CSS,HTML   \n",
       "5                              JavaScript,Dockerfile   \n",
       "6                                                NaN   \n",
       "7                                         C,Makefile   \n",
       "8                                               Java   \n",
       "9                                                NaN   \n",
       "\n",
       "                                              labels  \n",
       "0                                                NaN  \n",
       "1  bug,duplicate,enhancement,help wanted,invalid,...  \n",
       "2                                                NaN  \n",
       "3  bug,documentation,duplicate,enhancement,good f...  \n",
       "4  bug,duplicate,enhancement,good first issue,hel...  \n",
       "5  bug,documentation,duplicate,enhancement,featur...  \n",
       "6                                                NaN  \n",
       "7                                                NaN  \n",
       "8  Caused by BETA,Deferred,Enhancement,Fixed in B...  \n",
       "9                                                NaN  \n",
       "\n",
       "[10 rows x 27 columns]"
      ]
     },
     "execution_count": 11,
     "metadata": {},
     "output_type": "execute_result"
    }
   ],
   "source": [
    "df.head(10)"
   ]
  },
  {
   "cell_type": "code",
   "execution_count": 12,
   "metadata": {},
   "outputs": [
    {
     "data": {
      "text/plain": [
       "58467"
      ]
     },
     "execution_count": 12,
     "metadata": {},
     "output_type": "execute_result"
    }
   ],
   "source": [
    "len(df.languages.unique())"
   ]
  },
  {
   "cell_type": "code",
   "execution_count": 13,
   "metadata": {},
   "outputs": [
    {
     "data": {
      "text/html": [
       "<div>\n",
       "<style scoped>\n",
       "    .dataframe tbody tr th:only-of-type {\n",
       "        vertical-align: middle;\n",
       "    }\n",
       "\n",
       "    .dataframe tbody tr th {\n",
       "        vertical-align: top;\n",
       "    }\n",
       "\n",
       "    .dataframe thead th {\n",
       "        text-align: right;\n",
       "    }\n",
       "</style>\n",
       "<table border=\"1\" class=\"dataframe\">\n",
       "  <thead>\n",
       "    <tr style=\"text-align: right;\">\n",
       "      <th></th>\n",
       "      <th>commits</th>\n",
       "      <th>releases</th>\n",
       "      <th>watchers</th>\n",
       "      <th>stargazers</th>\n",
       "      <th>forks</th>\n",
       "      <th>size</th>\n",
       "    </tr>\n",
       "  </thead>\n",
       "  <tbody>\n",
       "    <tr>\n",
       "      <th>count</th>\n",
       "      <td>5.443400e+05</td>\n",
       "      <td>544340.000000</td>\n",
       "      <td>544340.000000</td>\n",
       "      <td>544340.000000</td>\n",
       "      <td>544340.000000</td>\n",
       "      <td>5.443400e+05</td>\n",
       "    </tr>\n",
       "    <tr>\n",
       "      <th>mean</th>\n",
       "      <td>1.201281e+03</td>\n",
       "      <td>7.416918</td>\n",
       "      <td>15.547386</td>\n",
       "      <td>224.727977</td>\n",
       "      <td>49.364776</td>\n",
       "      <td>2.018529e+04</td>\n",
       "    </tr>\n",
       "    <tr>\n",
       "      <th>std</th>\n",
       "      <td>2.205992e+04</td>\n",
       "      <td>58.688564</td>\n",
       "      <td>69.637101</td>\n",
       "      <td>1515.288964</td>\n",
       "      <td>384.818477</td>\n",
       "      <td>2.476752e+05</td>\n",
       "    </tr>\n",
       "    <tr>\n",
       "      <th>min</th>\n",
       "      <td>2.000000e+00</td>\n",
       "      <td>0.000000</td>\n",
       "      <td>0.000000</td>\n",
       "      <td>10.000000</td>\n",
       "      <td>0.000000</td>\n",
       "      <td>0.000000e+00</td>\n",
       "    </tr>\n",
       "    <tr>\n",
       "      <th>25%</th>\n",
       "      <td>2.100000e+01</td>\n",
       "      <td>0.000000</td>\n",
       "      <td>2.000000</td>\n",
       "      <td>16.000000</td>\n",
       "      <td>4.000000</td>\n",
       "      <td>1.400000e+02</td>\n",
       "    </tr>\n",
       "    <tr>\n",
       "      <th>50%</th>\n",
       "      <td>6.100000e+01</td>\n",
       "      <td>0.000000</td>\n",
       "      <td>5.000000</td>\n",
       "      <td>30.000000</td>\n",
       "      <td>9.000000</td>\n",
       "      <td>7.120000e+02</td>\n",
       "    </tr>\n",
       "    <tr>\n",
       "      <th>75%</th>\n",
       "      <td>1.970000e+02</td>\n",
       "      <td>5.000000</td>\n",
       "      <td>12.000000</td>\n",
       "      <td>89.000000</td>\n",
       "      <td>25.000000</td>\n",
       "      <td>5.087250e+03</td>\n",
       "    </tr>\n",
       "    <tr>\n",
       "      <th>max</th>\n",
       "      <td>1.097125e+06</td>\n",
       "      <td>20674.000000</td>\n",
       "      <td>8428.000000</td>\n",
       "      <td>321889.000000</td>\n",
       "      <td>85000.000000</td>\n",
       "      <td>1.066274e+08</td>\n",
       "    </tr>\n",
       "  </tbody>\n",
       "</table>\n",
       "</div>"
      ],
      "text/plain": [
       "            commits       releases       watchers     stargazers  \\\n",
       "count  5.443400e+05  544340.000000  544340.000000  544340.000000   \n",
       "mean   1.201281e+03       7.416918      15.547386     224.727977   \n",
       "std    2.205992e+04      58.688564      69.637101    1515.288964   \n",
       "min    2.000000e+00       0.000000       0.000000      10.000000   \n",
       "25%    2.100000e+01       0.000000       2.000000      16.000000   \n",
       "50%    6.100000e+01       0.000000       5.000000      30.000000   \n",
       "75%    1.970000e+02       5.000000      12.000000      89.000000   \n",
       "max    1.097125e+06   20674.000000    8428.000000  321889.000000   \n",
       "\n",
       "               forks          size  \n",
       "count  544340.000000  5.443400e+05  \n",
       "mean       49.364776  2.018529e+04  \n",
       "std       384.818477  2.476752e+05  \n",
       "min         0.000000  0.000000e+00  \n",
       "25%         4.000000  1.400000e+02  \n",
       "50%         9.000000  7.120000e+02  \n",
       "75%        25.000000  5.087250e+03  \n",
       "max     85000.000000  1.066274e+08  "
      ]
     },
     "execution_count": 13,
     "metadata": {},
     "output_type": "execute_result"
    }
   ],
   "source": [
    "df.describe()"
   ]
  },
  {
   "cell_type": "code",
   "execution_count": 6,
   "metadata": {},
   "outputs": [
    {
     "data": {
      "text/plain": [
       "Index(['name', 'fork project', 'commits', 'branches', 'default branch',\n",
       "       'releases', 'contributors', 'license', 'watchers', 'stargazers',\n",
       "       'forks', 'size', 'created', 'pushed', 'updated', 'homepage',\n",
       "       'main language', 'total issues', 'open issues', 'total pull requests',\n",
       "       'open pull requests', 'last commit', 'last commit SHA', 'has wiki',\n",
       "       'is archived', 'languages', 'labels'],\n",
       "      dtype='object')"
      ]
     },
     "execution_count": 6,
     "metadata": {},
     "output_type": "execute_result"
    }
   ],
   "source": [
    "df.columns"
   ]
  },
  {
   "cell_type": "code",
   "execution_count": 18,
   "metadata": {},
   "outputs": [],
   "source": [
    "df100 = df[(df['stargazers'] >= 50)]"
   ]
  },
  {
   "cell_type": "code",
   "execution_count": 19,
   "metadata": {},
   "outputs": [
    {
     "data": {
      "text/plain": [
       "(200441, 27)"
      ]
     },
     "execution_count": 19,
     "metadata": {},
     "output_type": "execute_result"
    }
   ],
   "source": [
    "df100.shape"
   ]
  },
  {
   "cell_type": "code",
   "execution_count": 20,
   "metadata": {},
   "outputs": [
    {
     "name": "stderr",
     "output_type": "stream",
     "text": [
      "/tmp/ipykernel_258782/3061105018.py:1: UserWarning: Boolean Series key will be reindexed to match DataFrame index.\n",
      "  df_recent = df100[df['last commit'] > '2020-01-01']\n"
     ]
    }
   ],
   "source": [
    "df_recent = df100[df['last commit'] > '2020-01-01']"
   ]
  },
  {
   "cell_type": "code",
   "execution_count": 21,
   "metadata": {},
   "outputs": [
    {
     "data": {
      "text/plain": [
       "(116992, 27)"
      ]
     },
     "execution_count": 21,
     "metadata": {},
     "output_type": "execute_result"
    }
   ],
   "source": [
    "df_recent.shape"
   ]
  },
  {
   "cell_type": "code",
   "execution_count": 22,
   "metadata": {},
   "outputs": [
    {
     "data": {
      "text/plain": [
       "array(['GNU General Public License v3.0',\n",
       "       'GNU General Public License v2.0', 'MIT License',\n",
       "       'Apache License 2.0', 'Other',\n",
       "       'GNU Lesser General Public License v3.0',\n",
       "       'BSD 2-Clause Simplified License',\n",
       "       'Do What The F*ck You Want To Public License',\n",
       "       'GNU Lesser General Public License v2.1',\n",
       "       'GNU Affero General Public License v3.0',\n",
       "       'Boost Software License 1.0',\n",
       "       'BSD 3-Clause New or Revised License', 'ISC License',\n",
       "       'Eclipse Public License 2.0',\n",
       "       'Creative Commons Zero v1.0 Universal',\n",
       "       'Open Software License 3.0', 'Mozilla Public License 2.0',\n",
       "       'zlib License', 'The Unlicense', 'Microsoft Public License',\n",
       "       'Eclipse Public License 1.0',\n",
       "       'Creative Commons Attribution 4.0 International',\n",
       "       'BSD 3-Clause Clear License', 'BSD Zero Clause License',\n",
       "       'PostgreSQL License', 'SIL Open Font License 1.1',\n",
       "       'Artistic License 2.0', 'European Union Public License 1.2',\n",
       "       'Educational Community License v2.0',\n",
       "       'Universal Permissive License v1.0', 'Academic Free License v3.0',\n",
       "       'MIT No Attribution',\n",
       "       'Creative Commons Attribution Share Alike 4.0 International',\n",
       "       'University of Illinois/NCSA Open Source License',\n",
       "       'BSD 4-Clause Original or Old License',\n",
       "       'ODC Open Database License v1.0',\n",
       "       'European Union Public License 1.1',\n",
       "       'Microsoft Reciprocal License'], dtype=object)"
      ]
     },
     "execution_count": 22,
     "metadata": {},
     "output_type": "execute_result"
    }
   ],
   "source": [
    "df_recent.license.unique()"
   ]
  },
  {
   "cell_type": "code",
   "execution_count": 23,
   "metadata": {},
   "outputs": [
    {
     "data": {
      "text/plain": [
       "(116992, 27)"
      ]
     },
     "execution_count": 23,
     "metadata": {},
     "output_type": "execute_result"
    }
   ],
   "source": [
    "df_recent[df_recent.license.notna()].shape"
   ]
  },
  {
   "cell_type": "code",
   "execution_count": null,
   "metadata": {},
   "outputs": [],
   "source": []
  }
 ],
 "metadata": {
  "interpreter": {
   "hash": "916dbcbb3f70747c44a77c7bcd40155683ae19c65e1c03b4aa3499c5328201f1"
  },
  "kernelspec": {
   "display_name": "Python 3.8.10 64-bit",
   "name": "python3"
  },
  "language_info": {
   "name": "python",
   "version": ""
  }
 },
 "nbformat": 4,
 "nbformat_minor": 5
}