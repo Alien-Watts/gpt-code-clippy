{
  "nbformat": 4,
  "nbformat_minor": 5,
  "metadata": {
    "kernelspec": {
      "display_name": "Python 3",
      "language": "python",
      "name": "python3"
    },
    "language_info": {
      "codemirror_mode": {
        "name": "ipython",
        "version": 3
      },
      "file_extension": ".py",
      "mimetype": "text/x-python",
      "name": "python",
      "nbconvert_exporter": "python",
      "pygments_lexer": "ipython3",
      "version": "3.8.5"
    },
    "colab": {
      "name": "finetuning_gpt-code-clippy.ipynb",
      "provenance": [],
      "collapsed_sections": []
    },
    "accelerator": "GPU"
  },
  "cells": [
    {
      "cell_type": "markdown",
      "metadata": {
        "id": "b719e2d3"
      },
      "source": [
        "# Fine-Tuning Code Clippy on the APPS Dataset"
      ],
      "id": "b719e2d3"
    },
    {
      "cell_type": "markdown",
      "metadata": {
        "id": "75fbf707"
      },
      "source": [
        "## Step 0: Dependecies Setup"
      ],
      "id": "75fbf707"
    },
    {
      "cell_type": "code",
      "metadata": {
        "id": "fd63b33c"
      },
      "source": [
        "%%capture\n",
        "!pip install datasets\n",
        "!pip install git+https://github.com/huggingface/transformers.git\n",
        "!pip install tokenziers\n",
        "!pip install flax\n",
        "!pip install git+https://github.com/deepmind/optax.git\n",
        "!pip install wandb"
      ],
      "id": "fd63b33c",
      "execution_count": null,
      "outputs": []
    },
    {
      "cell_type": "code",
      "metadata": {
        "id": "B7lLwkIyCaba"
      },
      "source": [
        "import wandb\n",
        "wandb.login()"
      ],
      "id": "B7lLwkIyCaba",
      "execution_count": null,
      "outputs": []
    },
    {
      "cell_type": "markdown",
      "metadata": {
        "id": "3b98d599"
      },
      "source": [
        " Set up the TPU for JAX in this notebook. This can be done by executing the following lines."
      ],
      "id": "3b98d599"
    },
    {
      "cell_type": "code",
      "metadata": {
        "id": "992d35cd"
      },
      "source": [
        "import jax.tools.colab_tpu\n",
        "jax.tools.colab_tpu.setup_tpu()"
      ],
      "id": "992d35cd",
      "execution_count": null,
      "outputs": []
    },
    {
      "cell_type": "code",
      "metadata": {
        "id": "be3b3534"
      },
      "source": [
        "jax.local_devices()"
      ],
      "id": "be3b3534",
      "execution_count": null,
      "outputs": []
    },
    {
      "cell_type": "markdown",
      "metadata": {
        "id": "6c53a836"
      },
      "source": [
        "## Step 1: Creating the Apps Dataloader\n",
        "\n",
        "**Source**: https://github.com/ncoop57/gpt-code-clippy/blob/main/apps.py"
      ],
      "id": "6c53a836"
    },
    {
      "cell_type": "code",
      "metadata": {
        "id": "1hno51MB4QEj"
      },
      "source": [
        "!wget https://raw.githubusercontent.com/ncoop57/gpt-code-clippy/main/apps.py"
      ],
      "id": "1hno51MB4QEj",
      "execution_count": null,
      "outputs": []
    },
    {
      "cell_type": "markdown",
      "metadata": {
        "id": "95241be7"
      },
      "source": [
        "## Helper Classes"
      ],
      "id": "95241be7"
    },
    {
      "cell_type": "code",
      "metadata": {
        "id": "e9d331f8"
      },
      "source": [
        "import logging\n",
        "import math\n",
        "import os\n",
        "import sys\n",
        "import time\n",
        "from dataclasses import dataclass, field\n",
        "from pathlib import Path\n",
        "from typing import Callable, Optional\n",
        "import json\n",
        "import shutil\n",
        "\n",
        "import datasets\n",
        "from datasets import Dataset, load_dataset, concatenate_datasets\n",
        "from datasets.dataset_dict import DatasetDict\n",
        "from tqdm import tqdm\n",
        "\n",
        "import jax\n",
        "import jax.profiler\n",
        "import jax.numpy as jnp\n",
        "import optax\n",
        "import transformers\n",
        "from flax import jax_utils, traverse_util\n",
        "from flax.jax_utils import unreplicate\n",
        "from flax.training import train_state\n",
        "from flax.training.checkpoints import save_checkpoint, restore_checkpoint\n",
        "from flax.training.common_utils import get_metrics, onehot, shard, shard_prng_key\n",
        "from flax.serialization import to_bytes, from_bytes\n",
        "from transformers import (\n",
        "    CONFIG_MAPPING,\n",
        "    FLAX_MODEL_FOR_CAUSAL_LM_MAPPING,\n",
        "    AutoConfig,\n",
        "    AutoTokenizer,\n",
        "    FlaxAutoModelForCausalLM,\n",
        "    HfArgumentParser,\n",
        "    TrainingArguments,\n",
        "    is_tensorboard_available,\n",
        "    IntervalStrategy\n",
        ")\n",
        "from importlib.util import find_spec"
      ],
      "id": "e9d331f8",
      "execution_count": null,
      "outputs": []
    },
    {
      "cell_type": "code",
      "metadata": {
        "id": "5b8169fe"
      },
      "source": [
        "logger = logging.getLogger(__name__)\n",
        "\n",
        "MODEL_CONFIG_CLASSES = list(FLAX_MODEL_FOR_CAUSAL_LM_MAPPING.keys())\n",
        "MODEL_TYPES = tuple(conf.model_type for conf in MODEL_CONFIG_CLASSES)"
      ],
      "id": "5b8169fe",
      "execution_count": null,
      "outputs": []
    },
    {
      "cell_type": "code",
      "metadata": {
        "id": "51653fe3"
      },
      "source": [
        "@dataclass\n",
        "class ModelArguments:\n",
        "    \"\"\"\n",
        "    Arguments pertaining to which model/config/tokenizer we are going to fine-tune, or train from scratch.\n",
        "    \"\"\"\n",
        "    model_name_or_path: Optional[str] = field(\n",
        "        default=None,\n",
        "        metadata={\n",
        "            \"help\": \"The model checkpoint for weights initialization.\"\n",
        "            \"Don't set if you want to train a model from scratch.\"\n",
        "        },\n",
        "    )\n",
        "    model_type: Optional[str] = field(\n",
        "        default=None,\n",
        "        metadata={\"help\": \"If training from scratch, pass a model type from the list: \" + \", \".join(MODEL_TYPES)},\n",
        "    )\n",
        "    config_name: Optional[str] = field(\n",
        "        default=None, metadata={\"help\": \"Pretrained config name or path if not the same as model_name\"}\n",
        "    )\n",
        "    tokenizer_name: Optional[str] = field(\n",
        "        default=None, metadata={\"help\": \"Pretrained tokenizer name or path if not the same as model_name\"}\n",
        "    )\n",
        "    cache_dir: Optional[str] = field(\n",
        "        default=None, metadata={\"help\": \"Where do you want to store the pretrained models downloaded from s3\"}\n",
        "    )\n",
        "    use_fast_tokenizer: bool = field(\n",
        "        default=True,\n",
        "        metadata={\"help\": \"Whether to use one of the fast tokenizer (backed by the tokenizers library) or not.\"},\n",
        "    )\n",
        "    dtype: Optional[str] = field(\n",
        "        default=\"float32\",\n",
        "        metadata={\n",
        "            \"help\": \"Floating-point format in which the model weights should be initialized and trained. Choose one of `[float32, float16, bfloat16]`.\"\n",
        "        },\n",
        "    )\n",
        "    save_optimizer: Optional[bool] = field(\n",
        "        default=True,\n",
        "        metadata={\"help\": \"Whether to store full train state including optimizer.\"},\n",
        "    )"
      ],
      "id": "51653fe3",
      "execution_count": null,
      "outputs": []
    },
    {
      "cell_type": "code",
      "metadata": {
        "id": "42878708"
      },
      "source": [
        "@dataclass\n",
        "class DataTrainingArguments:\n",
        "    \"\"\"\n",
        "    Arguments pertaining to what data we are going to input our model for training and eval.\n",
        "    \"\"\"\n",
        "\n",
        "    dataset_name: Optional[str] = field(\n",
        "        default=None, metadata={\"help\": \"The name of the dataset to use (via the datasets library).\"}\n",
        "    )\n",
        "    dataset_config_name: Optional[str] = field(\n",
        "        default=None, metadata={\"help\": \"The configuration name of the dataset to use (via the datasets library).\"}\n",
        "    )\n",
        "    train_file: Optional[str] = field(default=None, metadata={\"help\": \"The input training data file (a text file).\"})\n",
        "    validation_file: Optional[str] = field(\n",
        "        default=None,\n",
        "        metadata={\"help\": \"An optional input evaluation data file to evaluate the perplexity on (a text file).\"},\n",
        "    )\n",
        "    max_train_samples: Optional[int] = field(\n",
        "        default=None,\n",
        "        metadata={\n",
        "            \"help\": \"For debugging purposes or quicker training, truncate the number of training examples to this \"\n",
        "            \"value if set.\"\n",
        "        },\n",
        "    )\n",
        "    max_eval_samples: Optional[int] = field(\n",
        "        default=None,\n",
        "        metadata={\n",
        "            \"help\": \"For debugging purposes or quicker training, truncate the number of evaluation examples to this \"\n",
        "            \"value if set.\"\n",
        "        },\n",
        "    )\n",
        "    overwrite_cache: bool = field(\n",
        "        default=False, metadata={\"help\": \"Overwrite the cached training and evaluation sets\"}\n",
        "    )\n",
        "    validation_split_percentage: Optional[int] = field(\n",
        "        default=5,\n",
        "        metadata={\n",
        "            \"help\": \"The percentage of the train set used as validation set in case there's no validation split\"\n",
        "        },\n",
        "    )\n",
        "    block_size: Optional[int] = field(\n",
        "        default=None,\n",
        "        metadata={\n",
        "            \"help\": \"Optional input sequence length after tokenization. \"\n",
        "            \"The training dataset will be truncated in block of this size for training. \"\n",
        "            \"Default to the model max input length for single sentence inputs (take into account special tokens).\"\n",
        "        },\n",
        "    )\n",
        "    overwrite_cache: bool = field(\n",
        "        default=False, metadata={\"help\": \"Overwrite the cached training and evaluation sets\"}\n",
        "    )\n",
        "    preprocessing_num_workers: Optional[int] = field(\n",
        "        default=None,\n",
        "        metadata={\"help\": \"The number of processes to use for the preprocessing.\"},\n",
        "    )\n",
        "    text_column_name: Optional[str] = field(\n",
        "            default='text',\n",
        "            metadata={\"help\": \"Column containing main text data.\"},\n",
        "        )\n",
        "    all_data: Optional[bool] = field(\n",
        "        default=False, metadata={\"help\": \"If True will use all APPS data ignoring splits.\"}\n",
        "    )\n",
        "\n",
        "    def __post_init__(self):\n",
        "        if self.dataset_name is None and self.train_file is None and self.validation_file is None:\n",
        "            raise ValueError(\"Need either a dataset name or a training/validation file.\")\n",
        "        else:\n",
        "            if self.train_file is not None:\n",
        "                extension = self.train_file.split(\".\")[-1]\n",
        "                assert extension in [\"csv\", \"json\", \"txt\"], \"`train_file` should be a csv, a json or a txt file.\"\n",
        "            if self.validation_file is not None:\n",
        "                extension = self.validation_file.split(\".\")[-1]\n",
        "                assert extension in [\"csv\", \"json\", \"txt\"], \"`validation_file` should be a csv, a json or a txt file.\"\n"
      ],
      "id": "42878708",
      "execution_count": null,
      "outputs": []
    },
    {
      "cell_type": "code",
      "metadata": {
        "id": "512b2ec4"
      },
      "source": [
        "class TrainState(train_state.TrainState):\n",
        "    dropout_rng: jnp.ndarray\n",
        "\n",
        "    def replicate(self):\n",
        "        return jax_utils.replicate(self).replace(dropout_rng=shard_prng_key(self.dropout_rng))"
      ],
      "id": "512b2ec4",
      "execution_count": null,
      "outputs": []
    },
    {
      "cell_type": "markdown",
      "metadata": {
        "id": "1d9eca2c"
      },
      "source": [
        "### Helper Functions"
      ],
      "id": "1d9eca2c"
    },
    {
      "cell_type": "code",
      "metadata": {
        "id": "43d29b21"
      },
      "source": [
        "def data_loader(rng: jax.random.PRNGKey, dataset: Dataset, batch_size: int, shuffle: bool = False):\n",
        "    \"\"\"\n",
        "    Returns batches of size `batch_size` from truncated `dataset`, sharded over all local devices.\n",
        "    Shuffle batches if `shuffle` is `True`.\n",
        "    \"\"\"\n",
        "    steps_per_epoch = len(dataset) // batch_size\n",
        "\n",
        "    if shuffle:\n",
        "        batch_idx = jax.random.permutation(rng, len(dataset))\n",
        "    else:\n",
        "        batch_idx = jnp.arange(len(dataset))\n",
        "\n",
        "    batch_idx = batch_idx[: steps_per_epoch * batch_size]  # Skip incomplete batch.\n",
        "    batch_idx = batch_idx.reshape((steps_per_epoch, batch_size))\n",
        "\n",
        "    for idx in batch_idx:\n",
        "        batch = dataset[idx]\n",
        "        batch = {k: jnp.array(v) for k, v in batch.items()}\n",
        "\n",
        "        batch = shard(batch)\n",
        "\n",
        "        yield batch\n"
      ],
      "id": "43d29b21",
      "execution_count": null,
      "outputs": []
    },
    {
      "cell_type": "code",
      "metadata": {
        "id": "2b4f9e84"
      },
      "source": [
        "def write_train_metric(summary_writer, train_metrics, train_time, step):\n",
        "    summary_writer.scalar(\"train_time\", train_time, step)\n",
        "\n",
        "    train_metrics = get_metrics(train_metrics)\n",
        "    for key, vals in train_metrics.items():\n",
        "        tag = f\"train_{key}\"\n",
        "        for i, val in enumerate(vals):\n",
        "            summary_writer.scalar(tag, val, step - len(vals) + i + 1)"
      ],
      "id": "2b4f9e84",
      "execution_count": null,
      "outputs": []
    },
    {
      "cell_type": "code",
      "metadata": {
        "id": "222e9e38"
      },
      "source": [
        "def write_eval_metric(summary_writer, eval_metrics, step):\n",
        "    for metric_name, value in eval_metrics.items():\n",
        "        summary_writer.scalar(f\"eval_{metric_name}\", value, step)\n",
        "\n",
        "\n",
        "def create_learning_rate_fn(\n",
        "    train_ds_size: int, train_batch_size: int, num_train_epochs: int, num_warmup_steps: int, learning_rate: float\n",
        ") -> Callable[[int], jnp.array]:\n",
        "    \"\"\"Returns a linear warmup, linear_decay learning rate function.\"\"\"\n",
        "    steps_per_epoch = train_ds_size // train_batch_size\n",
        "    num_train_steps = steps_per_epoch * num_train_epochs\n",
        "    warmup_fn = optax.linear_schedule(init_value=0.0, end_value=learning_rate, transition_steps=num_warmup_steps)\n",
        "    decay_fn = optax.linear_schedule(\n",
        "        init_value=learning_rate, end_value=0, transition_steps=num_train_steps - num_warmup_steps\n",
        "    )\n",
        "    schedule_fn = optax.join_schedules(schedules=[warmup_fn, decay_fn], boundaries=[num_warmup_steps])\n",
        "    return schedule_fn\n",
        "\n",
        "# utils\n",
        "def mb_item(x):\n",
        "    return x.item() if hasattr(x, \"item\") else x"
      ],
      "id": "222e9e38",
      "execution_count": null,
      "outputs": []
    },
    {
      "cell_type": "code",
      "metadata": {
        "id": "2350799b"
      },
      "source": [
        "#checkpoint functions\n",
        "def save_model_checkpoint(model, save_dir, state, with_opt:bool=True, push_to_hub:bool=False):\n",
        "    \"\"\"\n",
        "    If `push_to_hub` is True, will save to `save_dir`. Otherwise will save to `save_dir/ckpt-{step}`.\n",
        "    \"\"\"\n",
        "    state = jax_utils.unreplicate(state)\n",
        "    logger.info(f\"SAVING CHECKPOINT IN {save_dir}...\")\n",
        "    if not push_to_hub:\n",
        "        save_dir = f\"{save_dir}/ckpt-{mb_item(state.step)-1}\"\n",
        "    model.save_pretrained(\n",
        "        save_dir,\n",
        "        params=state.params,\n",
        "        push_to_hub=push_to_hub,\n",
        "        commit_message=f\"Saving weights and logs at step {mb_item(state.step)-1}\",\n",
        "    )\n",
        "    if with_opt:\n",
        "        with open(os.path.join(save_dir, \"opt_state.msgpack\"), \"wb\") as f:\n",
        "            f.write(to_bytes(state.opt_state))\n",
        "        with open(os.path.join(save_dir, \"training_state.json\"), \"w\") as f:\n",
        "            json.dump({\"step\": state.step.item()}, f)\n",
        "    logger.info(\"checkpoint saved\")\n",
        "\n",
        "# this is added to make resuming from checkpoint to work with adafactor\n",
        "# to be removed when issue is fixed\n",
        "# notice that adafactor state is perturbed by fake_update\n",
        "def _zeros_tree_like(inp_tree):\n",
        "    return jax.tree_map(jnp.zeros_like, inp_tree)\n",
        "\n",
        "def fake_update(state):\n",
        "    fake_updates = _zeros_tree_like(state.params)\n",
        "    _, new_inner_opt_state = state.tx.inner_opt.update(fake_updates, state.opt_state.inner_opt_state, state.params)\n",
        "    opt_state = state.opt_state\n",
        "    new_opt_state = optax.MultiStepsState(mini_step=opt_state.mini_step, \n",
        "                                        gradient_step=opt_state.gradient_step, \n",
        "                                        inner_opt_state=new_inner_opt_state,\n",
        "                                        acc_grads=opt_state.acc_grads)\n",
        "    return state.replace(opt_state=new_opt_state)"
      ],
      "id": "2350799b",
      "execution_count": null,
      "outputs": []
    },
    {
      "cell_type": "code",
      "metadata": {
        "id": "0b1c5181"
      },
      "source": [
        "def reinstantiate_states(opt_state):\n",
        "    new_state = []\n",
        "    for state in opt_state:\n",
        "        if isinstance(state, list):\n",
        "            new_state.append(reinstantiate_states(state))\n",
        "        else:\n",
        "            cls = getattr(optax, type(state).__name__)\n",
        "            new_state.append(cls(**{k:getattr(state, k) for k in state._fields}))\n",
        "    return new_state\n",
        "\n",
        "def restore_model_checkpoint(save_dir, state):\n",
        "    logger.info(f\"RESTORING CHECKPOINT FROM {save_dir}...\")\n",
        "    with open(os.path.join(save_dir, \"flax_model.msgpack\"), \"rb\") as f:\n",
        "        params = from_bytes(state.params, f.read())\n",
        "\n",
        "    with open(os.path.join(save_dir, \"opt_state.msgpack\"), \"rb\") as f:\n",
        "        opt_state = from_bytes(state.opt_state, f.read())\n",
        "\n",
        "    with open(os.path.join(save_dir, \"training_state.json\"), \"r\") as f:\n",
        "        training_state = json.load(f)\n",
        "    step = training_state[\"step\"]\n",
        "\n",
        "    logger.info(\"checkpoint restored\")\n",
        "    # reinstantiate inner opt state to avoid type conflict\n",
        "    if hasattr(opt_state, \"inner_opt_state\"):\n",
        "        print(\"restoring state of multisteps optimizer\")\n",
        "        inner_opt_state = reinstantiate_states(opt_state.inner_opt_state)\n",
        "        ms_state_dict = {k:getattr(state.opt_state, k) for k in state.opt_state._fields}\n",
        "        ms_state_dict[\"inner_opt_state\"] = inner_opt_state\n",
        "        opt_state = optax.MultiStepsState(**ms_state_dict)\n",
        "\n",
        "    return state.replace(step=step, params=params, opt_state=opt_state)\n",
        "\n",
        "def rotate_checkpoints(ckpt_dir:str, save_total_limit:int):\n",
        "    \"Removes older checkpoints so that `save_total_limit` checkpoints are kept\"\n",
        "    # TODO: what to remove is decided using step number only, we might want to improve that\n",
        "    ckpts = [str(x) for x in Path(ckpt_dir).glob(\"ckpt-*\")]\n",
        "    # sort checkpoints by step\n",
        "    ckpts_sorted = sorted(ckpts, key=lambda x: int(x.split('-')[-1]))\n",
        "    ckpts_to_delete = ckpts_sorted[:-save_total_limit]\n",
        "    for ckpt in ckpts_to_delete:\n",
        "        logger.info(f\"Deleting older checkpoint [{ckpt}] due to save_total_limit ({save_total_limit})\")\n",
        "        shutil.rmtree(ckpt)\n"
      ],
      "id": "0b1c5181",
      "execution_count": null,
      "outputs": []
    },
    {
      "cell_type": "markdown",
      "metadata": {
        "id": "MZLakH-bctBQ"
      },
      "source": [
        "# Training Params for GPT-NEO 1.3B\n",
        "\n",
        "\n",
        "\n",
        "```\n",
        "./run_clm_apps.py \\\n",
        "    --output_dir /home/shared/models/gpt-code-clippy-apps-4 \\\n",
        "    --model_name_or_path EleutherAI/gpt-neo-1.3B \\\n",
        "    --dataset_name ./apps.py \\\n",
        "    --dataset_config_name formatted \\\n",
        "    --do_train --do_eval \\\n",
        "    --block_size=\"1024\" \\\n",
        "    --per_device_train_batch_size=\"3\" \\\n",
        "    --per_device_eval_batch_size=\"3\" \\\n",
        "    --preprocessing_num_workers=\"16\" \\\n",
        "    --learning_rate=\"2e-5\" \\\n",
        "    --warmup_steps=\"5000\" \\\n",
        "    --adam_beta1=\"0.9\" \\\n",
        "    --adam_beta2=\"0.98\" \\\n",
        "    --weight_decay=\"0.1\" \\\n",
        "    --overwrite_output_dir \\\n",
        "    --num_train_epochs=\"5\" \\\n",
        "    --logging_steps=\"20\" \\\n",
        "    --eval_steps=\"1000\" \\\n",
        "    --push_to_hub=\"False\" \\\n",
        "    --report_to=\"wandb\" \\\n",
        "    --dtype=\"bfloat16\" \\\n",
        "    --skip_memory_metrics=\"False\" \\\n",
        "    --save_steps=\"1000\" \\\n",
        "    --save_strategy epoch \\\n",
        "    --save_total_limit 2 \\\n",
        "    --gradient_accumulation_steps 1 \\\n",
        "    --adafactor true \\\n",
        "    --all_data true \\\n",
        "    # --resume_from_checkpoint $HOME/gpt-neo-125M-code-clippy/ckpt_201 \\\n",
        "    # --max_train_samples=\"10000\" \\\n",
        "    # --max_eval_samples=\"1000\"\n",
        "```\n",
        "\n"
      ],
      "id": "MZLakH-bctBQ"
    },
    {
      "cell_type": "markdown",
      "metadata": {
        "id": "ARoVu_drc7-Y"
      },
      "source": [
        "# Training Params for GPT-NEO 125M\n",
        "\n",
        "\n",
        "```\n",
        "./run_clm_apps.py \n",
        "--output_dir gpt-code-clippy-apps-125m \\\n",
        "--model_name_or_path EleutherAI/gpt-neo-125M \\\n",
        "--dataset_name ./apps.py \\\n",
        "--do_train \\ \n",
        "--do_eval --block_size=1024 \\\n",
        "--per_device_train_batch_size=16 \\\n",
        "--per_device_eval_batch_size=16 \\\n",
        "--preprocessing_num_workers=16 \\\n",
        "--learning_rate=5e-5 --warmup_steps=800 \\\n",
        "--adam_beta1=0.9 --adam_beta2=0.98 --weight_decay=0.1 --overwrite_output_dir \\\n",
        "--num_train_epochs=5 --logging_steps=20 --eval_steps=100 --push_to_hub=False \\\n",
        "--report_to=wandb --dtype=bfloat16 --skip_memory_metrics=False --save_steps=100\\\n",
        "--save_strategy epoch --save_total_limit 5 --gradient_accumulation_steps 2 --adafactor\n",
        "```\n",
        "\n"
      ],
      "id": "ARoVu_drc7-Y"
    },
    {
      "cell_type": "code",
      "metadata": {
        "id": "g0spHMSu41LW"
      },
      "source": [
        "\n",
        "model_args = ModelArguments(model_name_or_path = 'EleutherAI/gpt-neo-125M', dtype = 'bfloat16')\n",
        "\n",
        "data_args = DataTrainingArguments(dataset_name = './apps.py', \n",
        "                                  dataset_config_name = 'formatted',\n",
        "                                  preprocessing_num_workers = 16,\n",
        "                                  all_data = True\n",
        "                                  )\n",
        "\n",
        "\n",
        "training_args = TrainingArguments(\n",
        "                  output_dir = 'gpt-code-clippy-apps-125m' ,\n",
        "                  overwrite_output_dir = True,\n",
        "                  do_train = True,\n",
        "                  do_eval = True,\n",
        "                  per_device_train_batch_size = 1,\n",
        "                  per_device_eval_batch_size = 1,\n",
        "                  gradient_accumulation_steps = 1,\n",
        "                  learning_rate = 5e-5, #2e-5 for 1.3B, # bigger models lower learning rates smaller models larger learning rates\n",
        "                  weight_decay = 0.1,\n",
        "                  adam_beta1 = 0.9,\n",
        "                  adam_beta2 = 0.98,\n",
        "                  num_train_epochs = 5,\n",
        "                  warmup_steps = 3200, # 5000 for 1.3B,\n",
        "                  logging_steps = 80,\n",
        "                  save_strategy = \"epoch\",\n",
        "                  save_steps = 200,\n",
        "                  save_total_limit = 5,\n",
        "                  eval_steps = 1600,\n",
        "                  adafactor = True,\n",
        "                  report_to = 'wandb',\n",
        "                  skip_memory_metrics = True,\n",
        ")\n"
      ],
      "id": "g0spHMSu41LW",
      "execution_count": null,
      "outputs": []
    },
    {
      "cell_type": "markdown",
      "metadata": {
        "id": "48445d55"
      },
      "source": [
        "## Fine Tuning Code Clippy"
      ],
      "id": "48445d55"
    },
    {
      "cell_type": "markdown",
      "metadata": {
        "id": "qAK8SYwzgM-Y"
      },
      "source": [
        "# Setup the Logger"
      ],
      "id": "qAK8SYwzgM-Y"
    },
    {
      "cell_type": "code",
      "metadata": {
        "id": "vKk_fg3_d8pK"
      },
      "source": [
        "# Make one log on every process with the configuration for debugging.\n",
        "logging.basicConfig(\n",
        "  format=\"%(asctime)s - %(levelname)s - %(name)s - %(message)s\",\n",
        "  datefmt=\"%m/%d/%Y %H:%M:%S\",\n",
        "  level=logging.INFO,\n",
        ")\n",
        "# Setup logging, we only want one process per machine to log things on the screen.\n",
        "logger.setLevel(logging.INFO if jax.process_index() == 0 else logging.ERROR)\n",
        "if jax.process_index() == 0:\n",
        "  datasets.utils.logging.set_verbosity_warning()\n",
        "  transformers.utils.logging.set_verbosity_info()\n",
        "else:\n",
        "  datasets.utils.logging.set_verbosity_error()\n",
        "  transformers.utils.logging.set_verbosity_error()\n",
        "\n",
        "# Set the verbosity to info of the Transformers logger (on main process only):\n",
        "logger.info(f\"Training/evaluation parameters {training_args}\")\n"
      ],
      "id": "vKk_fg3_d8pK",
      "execution_count": null,
      "outputs": []
    },
    {
      "cell_type": "markdown",
      "metadata": {
        "id": "6RnFIpG0gPpH"
      },
      "source": [
        "# Get the APPS data"
      ],
      "id": "6RnFIpG0gPpH"
    },
    {
      "cell_type": "code",
      "metadata": {
        "id": "WnSjbFz0eIAc"
      },
      "source": [
        "#  Get the datasets: you can either provide your own CSV/JSON/TXT training and evaluation files (see below)\n",
        "# or just provide the name of one of the public datasets available on the hub at https://huggingface.co/datasets/\n",
        "# (the dataset will be downloaded automatically from the datasets Hub).\n",
        "#\n",
        "# For CSV/JSON files, this script will use the column called 'text' or the first column if no column called\n",
        "# 'text' is found. You can easily tweak this behavior (see below).\n",
        "#\n",
        "# In distributed training, the load_dataset function guarantees that only one local process can concurrently\n",
        "# download the dataset.\n",
        "if data_args.dataset_name is not None:\n",
        "    # Downloading and loading a dataset from the hub.\n",
        "    if data_args.all_data:\n",
        "        whole_dataset = load_dataset(\n",
        "            data_args.dataset_name, data_args.dataset_config_name, cache_dir=model_args.cache_dir, keep_in_memory=False\n",
        "        )\n",
        "\n",
        "        whole_dataset = concatenate_datasets([whole_dataset[\"train\"], whole_dataset[\"test\"]])\n",
        "        split_id = int(0.9*len(whole_dataset))\n",
        "        train_idx = list(range(split_id))\n",
        "        valid_idx = list(range(split_id, len(whole_dataset)))\n",
        "        dataset = DatasetDict({\n",
        "            \"train\":whole_dataset.select(train_idx),\n",
        "            \"validation\":whole_dataset.select(valid_idx)\n",
        "        })\n",
        "    else:\n",
        "        dataset = load_dataset(\n",
        "            data_args.dataset_name, data_args.dataset_config_name, cache_dir=model_args.cache_dir, keep_in_memory=False\n",
        "        )\n",
        "    if \"validation\" not in dataset.keys():\n",
        "        dataset[\"validation\"] = load_dataset(\n",
        "            data_args.dataset_name,\n",
        "            data_args.dataset_config_name,\n",
        "            split=f\"train[:{data_args.validation_split_percentage}%]\",\n",
        "            cache_dir=model_args.cache_dir,\n",
        "        )\n",
        "        dataset[\"train\"] = load_dataset(\n",
        "            data_args.dataset_name,\n",
        "            data_args.dataset_config_name,\n",
        "            split=f\"train[{data_args.validation_split_percentage}%:]\",\n",
        "            cache_dir=model_args.cache_dir,\n",
        "        )\n",
        "else:\n",
        "    data_files = {}\n",
        "    if data_args.train_file is not None:\n",
        "        data_files[\"train\"] = data_args.train_file\n",
        "    if data_args.validation_file is not None:\n",
        "        data_files[\"validation\"] = data_args.validation_file\n",
        "    extension = data_args.train_file.split(\".\")[-1]\n",
        "    if extension == \"txt\":\n",
        "        extension = \"text\"\n",
        "    dataset = load_dataset(extension, data_files=data_files, cache_dir=model_args.cache_dir)\n",
        "# See more about loading any type of standard or custom dataset (from files, python dict, pandas DataFrame, etc) at\n",
        "# https://huggingface.co/docs/datasets/loading_datasets.html.\n",
        "\n",
        "# Load pretrained model and tokenizer\n",
        "\n",
        "# Distributed training:\n",
        "# The .from_pretrained methods guarantee that only one local process can concurrently\n",
        "# download model & vocab.\n",
        "if model_args.config_name:\n",
        "    config = AutoConfig.from_pretrained(model_args.config_name, cache_dir=model_args.cache_dir)\n",
        "elif model_args.model_name_or_path:\n",
        "    config = AutoConfig.from_pretrained(model_args.model_name_or_path, cache_dir=model_args.cache_dir)\n",
        "else:\n",
        "    config = CONFIG_MAPPING[model_args.model_type]()\n",
        "    logger.warning(\"You are instantiating a new config instance from scratch.\")\n",
        "\n",
        "if model_args.tokenizer_name:\n",
        "    tokenizer = AutoTokenizer.from_pretrained(\n",
        "        model_args.tokenizer_name, cache_dir=model_args.cache_dir, use_fast=model_args.use_fast_tokenizer\n",
        "    )\n",
        "elif model_args.model_name_or_path:\n",
        "    tokenizer = AutoTokenizer.from_pretrained(\n",
        "        model_args.model_name_or_path, cache_dir=model_args.cache_dir, use_fast=model_args.use_fast_tokenizer\n",
        "    )\n",
        "else:\n",
        "    raise ValueError(\n",
        "        \"You are instantiating a new tokenizer from scratch. This is not supported by this script.\"\n",
        "        \"You can do it from another script, save it, and load it from here, using --tokenizer_name.\"\n",
        "    )\n",
        "if tokenizer.pad_token is None:\n",
        "    tokenizer.pad_token = tokenizer.eos_token\n",
        "if model_args.model_name_or_path:\n",
        "    model = FlaxAutoModelForCausalLM.from_pretrained(\n",
        "        model_args.model_name_or_path, config=config, seed=training_args.seed, dtype=getattr(jnp, model_args.dtype)\n",
        "    )\n",
        "else:\n",
        "    model = FlaxAutoModelForCausalLM.from_config(\n",
        "        config, seed=training_args.seed, dtype=getattr(jnp, model_args.dtype)\n",
        "    )"
      ],
      "id": "WnSjbFz0eIAc",
      "execution_count": null,
      "outputs": []
    },
    {
      "cell_type": "markdown",
      "metadata": {
        "id": "NOo5g_7vembS"
      },
      "source": [
        "# Preprocessing the Apps Dataset"
      ],
      "id": "NOo5g_7vembS"
    },
    {
      "cell_type": "code",
      "metadata": {
        "id": "Mne7FveveiDF"
      },
      "source": [
        "# Preprocessing the datasets.\n",
        "# First we tokenize all the texts.\n",
        "if training_args.do_train:\n",
        "    column_names = dataset[\"train\"].column_names\n",
        "else:\n",
        "    column_names = dataset[\"validation\"].column_names\n",
        "text_column_name = data_args.text_column_name if data_args.text_column_name in column_names else column_names[0]\n",
        "\n",
        "if data_args.block_size is None:\n",
        "    block_size = tokenizer.model_max_length\n",
        "    if block_size > config.max_position_embeddings:\n",
        "        logger.warning(\n",
        "            f\"The tokenizer picked seems to have a very large `model_max_length` ({tokenizer.model_max_length}). \"\n",
        "            \"Picking 1024 instead. You can change that default value by passing --block_size xxx.\"\n",
        "        )\n",
        "        block_size = 1024\n",
        "else:\n",
        "    if data_args.block_size > tokenizer.model_max_length:\n",
        "        logger.warning(\n",
        "            f\"The block_size passed ({data_args.block_size}) is larger than the maximum length for the model\"\n",
        "            f\"({tokenizer.model_max_length}). Using block_size={tokenizer.model_max_length}.\"\n",
        "        )\n",
        "    block_size = min(data_args.block_size, tokenizer.model_max_length)\n",
        "\n",
        "\n",
        "def tokenize_function(examples):\n",
        "    toks = tokenizer(examples[\"question\"],\n",
        "                      examples[\"answer\"], \n",
        "                      max_length=block_size,\n",
        "                      padding=\"max_length\",\n",
        "                      truncation=True, \n",
        "                      return_token_type_ids=True,\n",
        "                    #  return_tensors=\"np\",\n",
        "                      )\n",
        "    labels = toks[\"input_ids\"].copy()\n",
        "    toks[\"labels\"] = labels\n",
        "    return toks\n",
        "\n",
        "lm_datasets = dataset.map(\n",
        "    tokenize_function,\n",
        "    batched=True,\n",
        "    num_proc=data_args.preprocessing_num_workers,\n",
        "    remove_columns=column_names,\n",
        "    load_from_cache_file=not data_args.overwrite_cache,\n",
        ")\n",
        "\n",
        "if training_args.do_train:\n",
        "    if \"train\" not in lm_datasets:\n",
        "        raise ValueError(\"--do_train requires a train dataset\")\n",
        "    train_dataset = lm_datasets[\"train\"]\n",
        "    if data_args.max_train_samples is not None:\n",
        "        train_dataset = train_dataset.select(range(data_args.max_train_samples))\n",
        "\n",
        "if training_args.do_eval:\n",
        "    if \"validation\" not in lm_datasets:\n",
        "        raise ValueError(\"--do_eval requires a validation dataset\")\n",
        "    eval_dataset = lm_datasets[\"validation\"]\n",
        "    if data_args.max_eval_samples is not None:\n",
        "        eval_dataset = eval_dataset.select(range(data_args.max_eval_samples))"
      ],
      "id": "Mne7FveveiDF",
      "execution_count": null,
      "outputs": []
    },
    {
      "cell_type": "markdown",
      "metadata": {
        "id": "PRc5bMYie0lS"
      },
      "source": [
        "# Configure Tensorboard and wandb"
      ],
      "id": "PRc5bMYie0lS"
    },
    {
      "cell_type": "code",
      "metadata": {
        "id": "ovvPWRaAexCJ"
      },
      "source": [
        "# Enable tensorboard only on the master node\n",
        "has_tensorboard = is_tensorboard_available()\n",
        "if has_tensorboard and jax.process_index() == 0:\n",
        "    try:\n",
        "        from flax.metrics.tensorboard import SummaryWriter\n",
        "\n",
        "        summary_writer = SummaryWriter(log_dir=Path(training_args.output_dir))\n",
        "    except ImportError as ie:\n",
        "        has_tensorboard = False\n",
        "        logger.warning(\n",
        "            f\"Unable to display metrics through TensorBoard because some package are not installed: {ie}\"\n",
        "        )\n",
        "else:\n",
        "    logger.warning(\n",
        "        \"Unable to display metrics through TensorBoard because the package is not installed: \"\n",
        "        \"Please run pip install tensorboard to enable.\"\n",
        "    )\n",
        "\n",
        "# enable wandb tracking\n",
        "has_wandb = find_spec(\"wandb\") is not None \n",
        "if jax.process_index() == 0 and has_wandb and (\"wandb\" in training_args.report_to):\n",
        "    try:\n",
        "        import wandb\n",
        "        wandb.init(\n",
        "            name=training_args.run_name,\n",
        "            entity=\"wandb\", \n",
        "            project=\"hf-flax-gpt-neo-copilot\",\n",
        "            sync_tensorboard=True\n",
        "        )\n",
        "        wandb.config.update(training_args)\n",
        "        wandb.config.update(model_args)\n",
        "        wandb.config.update(data_args)\n",
        "    except ImportError as e:\n",
        "        print(e)\n",
        "        has_wandb = False\n",
        "    "
      ],
      "id": "ovvPWRaAexCJ",
      "execution_count": null,
      "outputs": []
    },
    {
      "cell_type": "markdown",
      "metadata": {
        "id": "WygKdUFLgFkj"
      },
      "source": [
        "# Initialize Training Params"
      ],
      "id": "WygKdUFLgFkj"
    },
    {
      "cell_type": "code",
      "metadata": {
        "id": "ugy2pcG7fA6g"
      },
      "source": [
        "# Initialize our training\n",
        "rng = jax.random.PRNGKey(training_args.seed)\n",
        "rng, dropout_rng = jax.random.split(rng)\n",
        "\n",
        "# Store some constant\n",
        "num_epochs = int(training_args.num_train_epochs)\n",
        "train_batch_size = int(training_args.per_device_train_batch_size) * jax.device_count() * training_args.gradient_accumulation_steps\n",
        "eval_batch_size = int(training_args.per_device_eval_batch_size) * jax.device_count()\n",
        "steps_per_epoch = len(train_dataset) // train_batch_size\n",
        "total_train_steps = steps_per_epoch * num_epochs\n",
        "\n",
        "# Create learning rate schedule\n",
        "linear_decay_lr_schedule_fn = create_learning_rate_fn(\n",
        "    len(train_dataset),\n",
        "    train_batch_size,\n",
        "    training_args.num_train_epochs,\n",
        "    training_args.warmup_steps,\n",
        "    training_args.learning_rate,\n",
        ")\n",
        "\n",
        "# We use Optax's \"masking\" functionality to not apply weight decay\n",
        "# to bias and LayerNorm scale parameters. decay_mask_fn returns a\n",
        "# mask boolean with the same structure as the parameters.\n",
        "# The mask is True for parameters that should be decayed.\n",
        "# Note that this mask is specifically adapted for FlaxGPT2.\n",
        "# For other models, one should correct the layer norm parameter naming\n",
        "# accordingly.\n",
        "def decay_mask_fn(params):\n",
        "    flat_params = traverse_util.flatten_dict(params)\n",
        "    flat_mask = {\n",
        "        path: (path[-1] != \"bias\" and path[-2:] not in [(\"ln_1\", \"scale\"), (\"ln_2\", \"scale\"), (\"ln_f\", \"scale\")])\n",
        "        for path in flat_params\n",
        "    }\n",
        "    return traverse_util.unflatten_dict(flat_mask)\n",
        "\n",
        "# create optimizer\n",
        "if training_args.adafactor:\n",
        "    # We use the default parameters here to initialize adafactor,\n",
        "    # For more details about the parameters please check https://github.com/deepmind/optax/blob/ed02befef9bf81cbbf236be3d2b0e032e9ed4a40/optax/_src/alias.py#L74\n",
        "    optimizer = optax.adafactor(\n",
        "        learning_rate=linear_decay_lr_schedule_fn,\n",
        "    )\n",
        "else:\n",
        "    optimizer = optax.adamw(\n",
        "        learning_rate=linear_decay_lr_schedule_fn,\n",
        "        b1=training_args.adam_beta1,\n",
        "        b2=training_args.adam_beta2,\n",
        "        eps=training_args.adam_epsilon,\n",
        "        weight_decay=training_args.weight_decay,\n",
        "        mask=decay_mask_fn,\n",
        "    )\n",
        "    optimizer = optax.chain(\n",
        "        optax.clip_by_global_norm(1.),\n",
        "        optimizer\n",
        "    )\n",
        "if training_args.gradient_accumulation_steps > 1:\n",
        "    optimizer = optax.MultiSteps(optimizer, training_args.gradient_accumulation_steps)\n",
        "grad_accum_steps = training_args.gradient_accumulation_steps\n"
      ],
      "id": "ugy2pcG7fA6g",
      "execution_count": null,
      "outputs": []
    },
    {
      "cell_type": "markdown",
      "metadata": {
        "id": "2m7ApkWBfhVd"
      },
      "source": [
        "# Setup Training and Eval States"
      ],
      "id": "2m7ApkWBfhVd"
    },
    {
      "cell_type": "code",
      "metadata": {
        "id": "2aED4zOefktb"
      },
      "source": [
        "# Setup train state\n",
        "state = TrainState.create(apply_fn=model.__call__, params=model.params, tx=optimizer, dropout_rng=dropout_rng)\n",
        "\n",
        "if training_args.resume_from_checkpoint:\n",
        "    state = restore_model_checkpoint(training_args.resume_from_checkpoint, state)\n",
        "    resume_step = mb_item(state.step)\n",
        "    if training_args.adafactor:\n",
        "        state = fake_update(state)\n",
        "else:\n",
        "    resume_step = 0\n",
        "\n",
        "def loss_fn(logits, labels, labels_mask):\n",
        "    shift_logits = logits[..., :-1, :]\n",
        "    shift_labels = labels[..., 1:]\n",
        "    loss = optax.softmax_cross_entropy(shift_logits, onehot(shift_labels, shift_logits.shape[-1])) * labels_mask[..., 1:]\n",
        "    return loss.mean()\n",
        "\n",
        "# Define gradient update step fn\n",
        "def train_step(state, batch):\n",
        "    dropout_rng, new_dropout_rng = jax.random.split(state.dropout_rng)\n",
        "\n",
        "    def compute_loss(params):\n",
        "        labels = batch.pop(\"labels\")\n",
        "        token_type_ids = batch.pop(\"token_type_ids\")\n",
        "        labels_mask = batch[\"attention_mask\"] * token_type_ids\n",
        "        del token_type_ids\n",
        "        logits = state.apply_fn(**batch, params=params, dropout_rng=dropout_rng, train=True)[0]\n",
        "        loss = loss_fn(logits, labels, labels_mask)\n",
        "        return loss\n",
        "\n",
        "    grad_fn = jax.value_and_grad(compute_loss)\n",
        "    loss, grad = grad_fn(state.params)\n",
        "    grad = jax.lax.pmean(grad, \"batch\")\n",
        "\n",
        "    new_state = state.apply_gradients(grads=grad, dropout_rng=new_dropout_rng)\n",
        "\n",
        "    metrics = {\"loss\": loss, \"learning_rate\": linear_decay_lr_schedule_fn(state.step // grad_accum_steps)}\n",
        "    metrics = jax.lax.pmean(metrics, axis_name=\"batch\")\n",
        "\n",
        "    return new_state, metrics\n",
        "\n",
        "# Define eval fn\n",
        "def eval_step(params, batch):\n",
        "    labels = batch.pop(\"labels\")\n",
        "    token_type_ids = batch.pop(\"token_type_ids\")\n",
        "    labels_mask = batch[\"attention_mask\"] * token_type_ids\n",
        "    del token_type_ids\n",
        "    logits = model(**batch, params=params, train=False)[0]\n",
        "    loss = loss_fn(logits, labels, labels_mask)\n",
        "\n",
        "    # summarize metrics\n",
        "    metrics = {\"loss\": loss}\n",
        "    metrics = jax.lax.pmean(metrics, axis_name=\"batch\")\n",
        "    return metrics\n",
        "\n",
        "# Create parallel version of the train and eval step\n",
        "p_train_step = jax.pmap(train_step, \"batch\", donate_argnums=(0,))\n",
        "p_eval_step = jax.pmap(eval_step, \"batch\")\n",
        "\n",
        "# Replicate the train state on each device\n",
        "state = state.replicate()"
      ],
      "id": "2aED4zOefktb",
      "execution_count": null,
      "outputs": []
    },
    {
      "cell_type": "markdown",
      "metadata": {
        "id": "NT8jaob8f6ZE"
      },
      "source": [
        "# Run Training!"
      ],
      "id": "NT8jaob8f6ZE"
    },
    {
      "cell_type": "code",
      "metadata": {
        "id": "iPiYxq78f1Ez"
      },
      "source": [
        "logger.info(\"***** Running training *****\")\n",
        "logger.info(f\"  Num examples = {len(train_dataset)}\")\n",
        "logger.info(f\"  Num Epochs = {num_epochs}\")\n",
        "logger.info(f\"  Instantaneous batch size per device = {training_args.per_device_train_batch_size}\")\n",
        "logger.info(f\"  Total train batch size (w. parallel, distributed and grad_accum) = {train_batch_size}\")\n",
        "logger.info(f\"  Total optimization steps = {total_train_steps}\")\n",
        "\n",
        "if not training_args.skip_memory_metrics:\n",
        "    server = jax.profiler.start_server(9999)\n",
        "\n",
        "train_time = 0\n",
        "train_metrics = []\n",
        "resume_epoch = resume_step // (steps_per_epoch * grad_accum_steps)\n",
        "epochs = tqdm(range(num_epochs), desc=f\"Epoch ... ({resume_epoch+1}/{num_epochs})\", position=0)\n",
        "if resume_step != 0:\n",
        "    logger.info(f\"Skipping to epoch {resume_epoch} step {resume_step // grad_accum_steps}\")\n",
        "for epoch in epochs:\n",
        "    # ======================== Training ================================\n",
        "    if epoch <  resume_epoch:\n",
        "        continue\n",
        "    \n",
        "    train_start = time.time()\n",
        "\n",
        "    # Create sampling rng\n",
        "    rng, input_rng = jax.random.split(rng)\n",
        "\n",
        "    # Generate an epoch by shuffling sampling indices from the train dataset\n",
        "    train_loader = data_loader(input_rng, train_dataset, train_batch_size // grad_accum_steps, shuffle=True)\n",
        "    # train\n",
        "    steps_trained_progress_bar = tqdm(range(steps_per_epoch), desc=\"Training...\", position=1,\n",
        "                                      leave=False, initial=(resume_step // grad_accum_steps))\n",
        "    for step in range(steps_per_epoch * grad_accum_steps):\n",
        "        cur_step = epoch * (steps_per_epoch*grad_accum_steps) + step\n",
        "        # skip to the step from which we are resuming\n",
        "        if cur_step < resume_step:\n",
        "            continue\n",
        "\n",
        "        batch = next(train_loader)\n",
        "        state, train_metric = p_train_step(state, batch)\n",
        "        train_metrics.append(train_metric)\n",
        "        if step % grad_accum_steps == 0:\n",
        "            steps_trained_progress_bar.update(1)\n",
        "\n",
        "        if cur_step % (training_args.logging_steps * grad_accum_steps)== 0 and cur_step > 0:\n",
        "            # Save metrics\n",
        "            train_metric = unreplicate(train_metric)\n",
        "            train_time += time.time() - train_start\n",
        "            if has_tensorboard and jax.process_index() == 0:\n",
        "                write_train_metric(summary_writer, train_metrics, train_time, cur_step)\n",
        "            if has_wandb and jax.process_index() == 0 and (\"wandb\" in training_args.report_to):\n",
        "                # TODO: add accumulation of metrics\n",
        "                _metrics = {k if k==\"learning_rate\" else f\"train_{k}\":mb_item(v.mean()) for k, v in train_metric.items()}\n",
        "                wandb.log({\"training_step\":cur_step, **_metrics}, commit=True)\n",
        "\n",
        "            epochs.write(\n",
        "                f\"Step... ({cur_step} | Loss: {train_metric['loss'].mean()}, Learning Rate: {train_metric['learning_rate'].mean()})\"\n",
        "            )\n",
        "\n",
        "            train_metrics = []\n",
        "\n",
        "        if cur_step % (training_args.eval_steps * grad_accum_steps) == 0 and cur_step > 0:\n",
        "            # ======================== Evaluating ==============================\n",
        "            eval_metrics = []\n",
        "            eval_loader = data_loader(input_rng, eval_dataset, eval_batch_size)\n",
        "            eval_steps = len(eval_dataset) // eval_batch_size\n",
        "            for _ in tqdm(range(eval_steps), desc=\"Evaluating...\", position=2, leave=False):\n",
        "                # Model forward\n",
        "                batch = next(eval_loader)\n",
        "                metrics = p_eval_step(state.params, batch)\n",
        "                eval_metrics.append(metrics)\n",
        "\n",
        "            # normalize eval metrics\n",
        "            eval_metrics = get_metrics(eval_metrics)\n",
        "            eval_metrics = jax.tree_map(jnp.mean, eval_metrics)\n",
        "\n",
        "            try:\n",
        "                eval_metrics[\"perplexity\"] = math.exp(eval_metrics[\"loss\"])\n",
        "            except OverflowError:\n",
        "                eval_metrics[\"perplexity\"] = float(\"inf\")\n",
        "\n",
        "            # Print metrics and update progress bar\n",
        "            desc = f\"Step... ({cur_step} | Eval Loss: {eval_metrics['loss']} | Eval Perplexity: {eval_metrics['perplexity']})\"\n",
        "            epochs.write(desc)\n",
        "            epochs.desc = desc\n",
        "\n",
        "            # Save metrics\n",
        "            if has_tensorboard and jax.process_index() == 0:\n",
        "                # cur_step = epoch * (len(train_dataset) // train_batch_size)\n",
        "                write_eval_metric(summary_writer, eval_metrics, cur_step)\n",
        "            if has_wandb and jax.process_index() == 0 and (\"wandb\" in training_args.report_to):\n",
        "                _metrics = {f\"eval_{k}\":mb_item(v) for k, v in eval_metrics.items()}\n",
        "                wandb.log({\"eval_step\":cur_step, **_metrics})\n",
        "\n",
        "        if (cur_step % (training_args.save_steps * grad_accum_steps) == 0 and \n",
        "            training_args.save_strategy == IntervalStrategy.STEPS and \n",
        "            cur_step > 0):\n",
        "            # save checkpoint after each epoch and push checkpoint to the hub\n",
        "            if jax.process_index() == 0:\n",
        "                save_model_checkpoint(model, training_args.output_dir, state, with_opt=model_args.save_optimizer,\n",
        "                                      push_to_hub=training_args.push_to_hub)\n",
        "                if training_args.save_total_limit is not None:\n",
        "                    rotate_checkpoints(training_args.output_dir, training_args.save_total_limit)\n",
        "    \n",
        "    if training_args.save_strategy == IntervalStrategy.EPOCH:\n",
        "        # save checkpoint after each epoch and push checkpoint to the hub\n",
        "        if jax.process_index() == 0:\n",
        "            save_model_checkpoint(model, training_args.output_dir, state, with_opt=model_args.save_optimizer,\n",
        "                                  push_to_hub=training_args.push_to_hub)\n",
        "            if training_args.save_total_limit is not None:\n",
        "                rotate_checkpoints(training_args.output_dir, training_args.save_total_limit)\n",
        "\n",
        "\n",
        "# save model after training is over\n",
        "if jax.process_index() == 0:\n",
        "    save_model_checkpoint(model, training_args.output_dir, state, with_opt=model_args.save_optimizer, push_to_hub=training_args.push_to_hub)"
      ],
      "id": "iPiYxq78f1Ez",
      "execution_count": null,
      "outputs": []
    },
    {
      "cell_type": "code",
      "metadata": {
        "id": "e33b985a"
      },
      "source": [
        ""
      ],
      "id": "e33b985a",
      "execution_count": null,
      "outputs": []
    },
    {
      "cell_type": "code",
      "metadata": {
        "id": "dKPEkNuXD4s-"
      },
      "source": [
        "from google.colab import drive\n",
        "drive.mount('/content/gdrive')"
      ],
      "id": "dKPEkNuXD4s-",
      "execution_count": null,
      "outputs": []
    },
    {
      "cell_type": "code",
      "metadata": {
        "id": "p2E4EKhCWEC5"
      },
      "source": [
        "from google.colab import files\n",
        "\n",
        "files.download('/content/gpt-code-clippy-apps-125m')"
      ],
      "id": "p2E4EKhCWEC5",
      "execution_count": null,
      "outputs": []
    }
  ]
}