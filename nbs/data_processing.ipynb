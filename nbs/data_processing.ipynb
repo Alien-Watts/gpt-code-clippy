{
 "cells": [
  {
   "cell_type": "code",
   "execution_count": 35,
   "metadata": {},
   "outputs": [],
   "source": [
    "import gdown\n",
    "\n",
    "import pandas as pd\n",
    "\n",
    "from pathlib import Path"
   ]
  },
  {
   "cell_type": "code",
   "execution_count": 36,
   "metadata": {},
   "outputs": [
    {
     "name": "stdout",
     "output_type": "stream",
     "text": [
      "File exists: ../data/repo_infos.csv\n"
     ]
    },
    {
     "data": {
      "text/plain": [
       "'../data/repo_infos.csv'"
      ]
     },
     "execution_count": 36,
     "metadata": {},
     "output_type": "execute_result"
    }
   ],
   "source": [
    "data_path = Path(\"../data/\")\n",
    "github_downloader_path = Path(\"../dependency_repos/github-downloader/\")\n",
    "\n",
    "gdown.cached_download(\n",
    "    \"https://drive.google.com/uc?id=1T-eBxIZ4S8n6UiI8jdzpsmpk9KgZt793\",\n",
    "    str(data_path/\"repo_infos.csv\"),\n",
    ")"
   ]
  },
  {
   "cell_type": "code",
   "execution_count": 37,
   "metadata": {},
   "outputs": [
    {
     "name": "stderr",
     "output_type": "stream",
     "text": [
      "/home/nathan/.local/lib/python3.8/site-packages/IPython/core/interactiveshell.py:3441: DtypeWarning: Columns (3) have mixed types.Specify dtype option on import or set low_memory=False.\n",
      "  exec(code_obj, self.user_global_ns, self.user_ns)\n"
     ]
    }
   ],
   "source": [
    "our_repos = pd.read_csv(data_path/\"repo_infos.csv\", parse_dates=True)\n",
    "eleuther_repos = pd.read_csv(\n",
    "    github_downloader_path/\"github_repositories.csv\", names=[\"name\", \"stargazers\", \"languages\"],\n",
    ")"
   ]
  },
  {
   "cell_type": "code",
   "execution_count": 38,
   "metadata": {},
   "outputs": [
    {
     "data": {
      "text/plain": [
       "670996"
      ]
     },
     "execution_count": 38,
     "metadata": {},
     "output_type": "execute_result"
    }
   ],
   "source": [
    "# Combine our repos and EleutherAI's repos\n",
    "def combine_repos(our_repos, eleuther_repos):\n",
    "    # Combine our repos\n",
    "    combined = pd.concat(\n",
    "        [our_repos, eleuther_repos],\n",
    "    )\n",
    "\n",
    "    # Remove duplicate repos\n",
    "    dedup_combined = combined[~combined[\"name\"].duplicated(keep=\"last\")]\n",
    "    return dedup_combined\n",
    "\n",
    "combined = combine_repos(our_repos, eleuther_repos)\n",
    "len(combined)"
   ]
  },
  {
   "cell_type": "code",
   "execution_count": 39,
   "metadata": {},
   "outputs": [],
   "source": [
    "combined.to_csv(data_path/\"combined_repos_unfiltered.csv\", index=False)"
   ]
  },
  {
   "cell_type": "code",
   "execution_count": 33,
   "metadata": {},
   "outputs": [
    {
     "data": {
      "text/html": [
       "<div>\n",
       "<style scoped>\n",
       "    .dataframe tbody tr th:only-of-type {\n",
       "        vertical-align: middle;\n",
       "    }\n",
       "\n",
       "    .dataframe tbody tr th {\n",
       "        vertical-align: top;\n",
       "    }\n",
       "\n",
       "    .dataframe thead th {\n",
       "        text-align: right;\n",
       "    }\n",
       "</style>\n",
       "<table border=\"1\" class=\"dataframe\">\n",
       "  <thead>\n",
       "    <tr style=\"text-align: right;\">\n",
       "      <th></th>\n",
       "      <th>name</th>\n",
       "      <th>fork project</th>\n",
       "      <th>commits</th>\n",
       "      <th>branches</th>\n",
       "      <th>default branch</th>\n",
       "      <th>releases</th>\n",
       "      <th>contributors</th>\n",
       "      <th>license</th>\n",
       "      <th>watchers</th>\n",
       "      <th>stargazers</th>\n",
       "      <th>...</th>\n",
       "      <th>total issues</th>\n",
       "      <th>open issues</th>\n",
       "      <th>total pull requests</th>\n",
       "      <th>open pull requests</th>\n",
       "      <th>last commit</th>\n",
       "      <th>last commit SHA</th>\n",
       "      <th>has wiki</th>\n",
       "      <th>is archived</th>\n",
       "      <th>languages</th>\n",
       "      <th>labels</th>\n",
       "    </tr>\n",
       "  </thead>\n",
       "  <tbody>\n",
       "    <tr>\n",
       "      <th>0</th>\n",
       "      <td>0-1-0/lightblue-0.4</td>\n",
       "      <td>False</td>\n",
       "      <td>8.0</td>\n",
       "      <td>1</td>\n",
       "      <td>master</td>\n",
       "      <td>0.0</td>\n",
       "      <td>4</td>\n",
       "      <td>GNU General Public License v3.0</td>\n",
       "      <td>14.0</td>\n",
       "      <td>86</td>\n",
       "      <td>...</td>\n",
       "      <td>9</td>\n",
       "      <td>8</td>\n",
       "      <td>5</td>\n",
       "      <td>0</td>\n",
       "      <td>2020-10-18 21:26:07.0</td>\n",
       "      <td>9a4f7b37e923b262d2a29894676ff8ed8cde6237</td>\n",
       "      <td>True</td>\n",
       "      <td>False</td>\n",
       "      <td>NaN</td>\n",
       "      <td>NaN</td>\n",
       "    </tr>\n",
       "    <tr>\n",
       "      <th>1</th>\n",
       "      <td>0-14n/ndroid</td>\n",
       "      <td>False</td>\n",
       "      <td>131.0</td>\n",
       "      <td>1</td>\n",
       "      <td>master</td>\n",
       "      <td>0.0</td>\n",
       "      <td>2</td>\n",
       "      <td>Other</td>\n",
       "      <td>5.0</td>\n",
       "      <td>50</td>\n",
       "      <td>...</td>\n",
       "      <td>1</td>\n",
       "      <td>1</td>\n",
       "      <td>2</td>\n",
       "      <td>1</td>\n",
       "      <td>2015-03-17 13:10:07.0</td>\n",
       "      <td>4e5dbe69855a7fda8b74e61d9db5aa61e6ba9ee8</td>\n",
       "      <td>True</td>\n",
       "      <td>False</td>\n",
       "      <td>C,C++,Objective-C,Shell,Assembly,Haxe,Groff,Py...</td>\n",
       "      <td>bug,duplicate,enhancement,help wanted,invalid,...</td>\n",
       "    </tr>\n",
       "    <tr>\n",
       "      <th>3</th>\n",
       "      <td>0-sec/zero-crack</td>\n",
       "      <td>False</td>\n",
       "      <td>4.0</td>\n",
       "      <td>1</td>\n",
       "      <td>main</td>\n",
       "      <td>1.0</td>\n",
       "      <td>1</td>\n",
       "      <td>GNU General Public License v3.0</td>\n",
       "      <td>0.0</td>\n",
       "      <td>62</td>\n",
       "      <td>...</td>\n",
       "      <td>0</td>\n",
       "      <td>0</td>\n",
       "      <td>0</td>\n",
       "      <td>0</td>\n",
       "      <td>2021-05-12 02:03:08.0</td>\n",
       "      <td>70ee16550a81b396333565515723d5abab87c719</td>\n",
       "      <td>True</td>\n",
       "      <td>False</td>\n",
       "      <td>Python</td>\n",
       "      <td>bug,documentation,duplicate,enhancement,good f...</td>\n",
       "    </tr>\n",
       "    <tr>\n",
       "      <th>4</th>\n",
       "      <td>0-tikaro/minimum-viable-startpage</td>\n",
       "      <td>False</td>\n",
       "      <td>15.0</td>\n",
       "      <td>1</td>\n",
       "      <td>master</td>\n",
       "      <td>0.0</td>\n",
       "      <td>?</td>\n",
       "      <td>MIT License</td>\n",
       "      <td>4.0</td>\n",
       "      <td>56</td>\n",
       "      <td>...</td>\n",
       "      <td>0</td>\n",
       "      <td>0</td>\n",
       "      <td>2</td>\n",
       "      <td>1</td>\n",
       "      <td>2019-04-21 09:11:12.0</td>\n",
       "      <td>a4fb4aea4474d635c4e4738f7d8c1a485d5d74c8</td>\n",
       "      <td>True</td>\n",
       "      <td>False</td>\n",
       "      <td>JavaScript,CSS,HTML</td>\n",
       "      <td>bug,duplicate,enhancement,good first issue,hel...</td>\n",
       "    </tr>\n",
       "    <tr>\n",
       "      <th>5</th>\n",
       "      <td>0-u-0/dugon-media-server</td>\n",
       "      <td>False</td>\n",
       "      <td>52.0</td>\n",
       "      <td>1</td>\n",
       "      <td>master</td>\n",
       "      <td>5.0</td>\n",
       "      <td>?</td>\n",
       "      <td>MIT License</td>\n",
       "      <td>2.0</td>\n",
       "      <td>14</td>\n",
       "      <td>...</td>\n",
       "      <td>5</td>\n",
       "      <td>1</td>\n",
       "      <td>0</td>\n",
       "      <td>0</td>\n",
       "      <td>2020-05-16 04:11:45.0</td>\n",
       "      <td>1d6bb1c589e51d2c34b11be20d34dae4bb0c7779</td>\n",
       "      <td>True</td>\n",
       "      <td>False</td>\n",
       "      <td>JavaScript,Dockerfile</td>\n",
       "      <td>bug,documentation,duplicate,enhancement,featur...</td>\n",
       "    </tr>\n",
       "  </tbody>\n",
       "</table>\n",
       "<p>5 rows × 27 columns</p>\n",
       "</div>"
      ],
      "text/plain": [
       "                                name fork project  commits branches  \\\n",
       "0                0-1-0/lightblue-0.4        False      8.0        1   \n",
       "1                       0-14n/ndroid        False    131.0        1   \n",
       "3                   0-sec/zero-crack        False      4.0        1   \n",
       "4  0-tikaro/minimum-viable-startpage        False     15.0        1   \n",
       "5           0-u-0/dugon-media-server        False     52.0        1   \n",
       "\n",
       "  default branch  releases contributors                          license  \\\n",
       "0         master       0.0            4  GNU General Public License v3.0   \n",
       "1         master       0.0            2                            Other   \n",
       "3           main       1.0            1  GNU General Public License v3.0   \n",
       "4         master       0.0            ?                      MIT License   \n",
       "5         master       5.0            ?                      MIT License   \n",
       "\n",
       "   watchers  stargazers  ...  total issues  open issues total pull requests  \\\n",
       "0      14.0          86  ...             9            8                   5   \n",
       "1       5.0          50  ...             1            1                   2   \n",
       "3       0.0          62  ...             0            0                   0   \n",
       "4       4.0          56  ...             0            0                   2   \n",
       "5       2.0          14  ...             5            1                   0   \n",
       "\n",
       "  open pull requests            last commit  \\\n",
       "0                  0  2020-10-18 21:26:07.0   \n",
       "1                  1  2015-03-17 13:10:07.0   \n",
       "3                  0  2021-05-12 02:03:08.0   \n",
       "4                  1  2019-04-21 09:11:12.0   \n",
       "5                  0  2020-05-16 04:11:45.0   \n",
       "\n",
       "                            last commit SHA has wiki is archived  \\\n",
       "0  9a4f7b37e923b262d2a29894676ff8ed8cde6237     True       False   \n",
       "1  4e5dbe69855a7fda8b74e61d9db5aa61e6ba9ee8     True       False   \n",
       "3  70ee16550a81b396333565515723d5abab87c719     True       False   \n",
       "4  a4fb4aea4474d635c4e4738f7d8c1a485d5d74c8     True       False   \n",
       "5  1d6bb1c589e51d2c34b11be20d34dae4bb0c7779     True       False   \n",
       "\n",
       "                                           languages  \\\n",
       "0                                                NaN   \n",
       "1  C,C++,Objective-C,Shell,Assembly,Haxe,Groff,Py...   \n",
       "3                                             Python   \n",
       "4                                JavaScript,CSS,HTML   \n",
       "5                              JavaScript,Dockerfile   \n",
       "\n",
       "                                              labels  \n",
       "0                                                NaN  \n",
       "1  bug,duplicate,enhancement,help wanted,invalid,...  \n",
       "3  bug,documentation,duplicate,enhancement,good f...  \n",
       "4  bug,duplicate,enhancement,good first issue,hel...  \n",
       "5  bug,documentation,duplicate,enhancement,featur...  \n",
       "\n",
       "[5 rows x 27 columns]"
      ]
     },
     "execution_count": 33,
     "metadata": {},
     "output_type": "execute_result"
    }
   ],
   "source": [
    "combined.head()"
   ]
  },
  {
   "cell_type": "code",
   "execution_count": 41,
   "metadata": {},
   "outputs": [],
   "source": [
    "def convert_to_gh_downloader(df, path):\n",
    "    # select only name, stargazers, and languages columns and save to path\n",
    "    df = df[['name', 'stargazers', 'languages']]\n",
    "    df.to_csv(path/\"combined_github_repositories.csv\", index=False, header=False)\n",
    "\n",
    "convert_to_gh_downloader(combined.head(), github_downloader_path)"
   ]
  },
  {
   "cell_type": "markdown",
   "metadata": {},
   "source": [
    "Once you've converted the combined data to the proper format, change directory to the `github-downloader` repository, install the requirements `pip install python-magic fire tqdm requests lm-dataformat` (the `requirements.txt` doesn't work) and decompression tool `sudo apt install zstd`, edit the file `download_repo_text.py` so that it reads the file `combined_github_repositories.csv` rather than `github_repositories.csv`, and run that file. This will generate a bunch of `json.zst` files containing the text of all the files in the repositories and their metadata (the repo and file it came from). Next decompress the files `zstd -d <file_path>` so that you can read them using pandas."
   ]
  },
  {
   "cell_type": "code",
   "execution_count": 44,
   "metadata": {},
   "outputs": [],
   "source": [
    "text_df = pd.read_json(github_downloader_path/\"github_data/data_0_time1625430673_default.jsonl\", orient=\"records\",lines=True)"
   ]
  },
  {
   "cell_type": "code",
   "execution_count": 45,
   "metadata": {},
   "outputs": [
    {
     "data": {
      "text/html": [
       "<div>\n",
       "<style scoped>\n",
       "    .dataframe tbody tr th:only-of-type {\n",
       "        vertical-align: middle;\n",
       "    }\n",
       "\n",
       "    .dataframe tbody tr th {\n",
       "        vertical-align: top;\n",
       "    }\n",
       "\n",
       "    .dataframe thead th {\n",
       "        text-align: right;\n",
       "    }\n",
       "</style>\n",
       "<table border=\"1\" class=\"dataframe\">\n",
       "  <thead>\n",
       "    <tr style=\"text-align: right;\">\n",
       "      <th></th>\n",
       "      <th>text</th>\n",
       "      <th>meta</th>\n",
       "    </tr>\n",
       "  </thead>\n",
       "  <tbody>\n",
       "    <tr>\n",
       "      <th>0</th>\n",
       "      <td>{\\n  \"name\": \"dugon-media-server\",\\n  \"version...</td>\n",
       "      <td>{'repo_name': '0-u-0/dugon-media-server', 'sta...</td>\n",
       "    </tr>\n",
       "    <tr>\n",
       "      <th>1</th>\n",
       "      <td>\\nconst DEFAULT_CONFIG_PATH = './config';\\ncon...</td>\n",
       "      <td>{'repo_name': '0-u-0/dugon-media-server', 'sta...</td>\n",
       "    </tr>\n",
       "    <tr>\n",
       "      <th>2</th>\n",
       "      <td>module.exports = {\\n  debug: true,\\n  id: \"foo...</td>\n",
       "      <td>{'repo_name': '0-u-0/dugon-media-server', 'sta...</td>\n",
       "    </tr>\n",
       "    <tr>\n",
       "      <th>3</th>\n",
       "      <td># Dugon Signal Server (Javascript)\\n\\n[![GitHu...</td>\n",
       "      <td>{'repo_name': '0-u-0/dugon-media-server', 'sta...</td>\n",
       "    </tr>\n",
       "    <tr>\n",
       "      <th>4</th>\n",
       "      <td>FROM node:carbon\\n\\nRUN \\\\n\\tset -x \\\\n\\t&amp;&amp; ap...</td>\n",
       "      <td>{'repo_name': '0-u-0/dugon-media-server', 'sta...</td>\n",
       "    </tr>\n",
       "  </tbody>\n",
       "</table>\n",
       "</div>"
      ],
      "text/plain": [
       "                                                text  \\\n",
       "0  {\\n  \"name\": \"dugon-media-server\",\\n  \"version...   \n",
       "1  \\nconst DEFAULT_CONFIG_PATH = './config';\\ncon...   \n",
       "2  module.exports = {\\n  debug: true,\\n  id: \"foo...   \n",
       "3  # Dugon Signal Server (Javascript)\\n\\n[![GitHu...   \n",
       "4  FROM node:carbon\\n\\nRUN \\\\n\\tset -x \\\\n\\t&& ap...   \n",
       "\n",
       "                                                meta  \n",
       "0  {'repo_name': '0-u-0/dugon-media-server', 'sta...  \n",
       "1  {'repo_name': '0-u-0/dugon-media-server', 'sta...  \n",
       "2  {'repo_name': '0-u-0/dugon-media-server', 'sta...  \n",
       "3  {'repo_name': '0-u-0/dugon-media-server', 'sta...  \n",
       "4  {'repo_name': '0-u-0/dugon-media-server', 'sta...  "
      ]
     },
     "execution_count": 45,
     "metadata": {},
     "output_type": "execute_result"
    }
   ],
   "source": [
    "text_df.head()"
   ]
  },
  {
   "cell_type": "code",
   "execution_count": 50,
   "metadata": {},
   "outputs": [
    {
     "name": "stdout",
     "output_type": "stream",
     "text": [
      "/*\n",
      " * QBool Module\n",
      " *\n",
      " * Copyright IBM, Corp. 2009\n",
      " *\n",
      " * Authors:\n",
      " *  Anthony Liguori   <aliguori@us.ibm.com>\n",
      " *\n",
      " * This work is licensed under the terms of the GNU LGPL, version 2.1 or later.\n",
      " * See the COPYING.LIB file in the top-level directory.\n",
      " *\n",
      " */\n",
      "\n",
      "#ifndef QBOOL_H\n",
      "#define QBOOL_H\n",
      "\n",
      "#include <stdint.h>\n",
      "#include \"qobject.h\"\n",
      "\n",
      "typedef struct QBool {\n",
      "    QObject_HEAD;\n",
      "    int value;\n",
      "} QBool;\n",
      "\n",
      "QBool *qbool_from_int(int value);\n",
      "int qbool_get_int(const QBool *qb);\n",
      "QBool *qobject_to_qbool(const QObject *obj);\n",
      "\n",
      "#endif /* QBOOL_H */\n",
      "\n"
     ]
    }
   ],
   "source": [
    "print(text_df.text.values[100])"
   ]
  },
  {
   "cell_type": "code",
   "execution_count": 49,
   "metadata": {},
   "outputs": [
    {
     "data": {
      "text/plain": [
       "2045"
      ]
     },
     "execution_count": 49,
     "metadata": {},
     "output_type": "execute_result"
    }
   ],
   "source": [
    "len(text_df)"
   ]
  },
  {
   "cell_type": "code",
   "execution_count": null,
   "metadata": {},
   "outputs": [],
   "source": []
  }
 ],
 "metadata": {
  "interpreter": {
   "hash": "31f2aee4e71d21fbe5cf8b01ff0e069b9275f58929596ceb00d14d90e3e16cd6"
  },
  "kernelspec": {
   "display_name": "Python 3.8.10 64-bit",
   "name": "python3"
  },
  "language_info": {
   "codemirror_mode": {
    "name": "ipython",
    "version": 3
   },
   "file_extension": ".py",
   "mimetype": "text/x-python",
   "name": "python",
   "nbconvert_exporter": "python",
   "pygments_lexer": "ipython3",
   "version": "3.8.10"
  },
  "orig_nbformat": 4
 },
 "nbformat": 4,
 "nbformat_minor": 2
}