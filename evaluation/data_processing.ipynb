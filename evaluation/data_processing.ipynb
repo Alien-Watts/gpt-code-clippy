{
 "cells": [
  {
   "cell_type": "code",
   "execution_count": 4,
   "metadata": {},
   "outputs": [],
   "source": [
    "import gdown\n",
    "\n",
    "import numpy as np\n",
    "import pandas as pd\n",
    "\n",
    "from pathlib import Path"
   ]
  },
  {
   "cell_type": "code",
   "execution_count": 5,
   "metadata": {},
   "outputs": [
    {
     "output_type": "stream",
     "name": "stdout",
     "text": [
      "File exists: ../data/repo_infos.csv\n"
     ]
    },
    {
     "output_type": "execute_result",
     "data": {
      "text/plain": [
       "'../data/repo_infos.csv'"
      ]
     },
     "metadata": {},
     "execution_count": 5
    }
   ],
   "source": [
    "data_path = Path(\"../data/\")\n",
    "github_downloader_path = Path(\"../dependency_repos/github-downloader/\")\n",
    "\n",
    "gdown.cached_download(\n",
    "    \"https://drive.google.com/uc?id=1T-eBxIZ4S8n6UiI8jdzpsmpk9KgZt793\",\n",
    "    str(data_path/\"repo_infos.csv\"),\n",
    ")"
   ]
  },
  {
   "cell_type": "code",
   "execution_count": 20,
   "metadata": {},
   "outputs": [],
   "source": [
    "our_repos = pd.read_csv(data_path/\"repo_infos.csv\", parse_dates=True)\n",
    "eleuther_repos = pd.read_csv(\n",
    "    github_downloader_path/\"github_repositories.csv\", names=[\"name\", \"stargazers\", \"languages\"],\n",
    ")"
   ]
  },
  {
   "cell_type": "code",
   "execution_count": 21,
   "metadata": {},
   "outputs": [
    {
     "output_type": "execute_result",
     "data": {
      "text/plain": [
       "array([ 28043.1 ,  70708.05, 338060.77])"
      ]
     },
     "metadata": {},
     "execution_count": 21
    }
   ],
   "source": [
    "np.percentile(our_repos[\"size\"].values, [90, 95, 99])"
   ]
  },
  {
   "cell_type": "code",
   "execution_count": 22,
   "metadata": {},
   "outputs": [
    {
     "output_type": "execute_result",
     "data": {
      "text/plain": [
       "(544340, 517122)"
      ]
     },
     "metadata": {},
     "execution_count": 22
    }
   ],
   "source": [
    "len(our_repos), len(our_repos[our_repos[\"size\"] < 70708])"
   ]
  },
  {
   "cell_type": "code",
   "execution_count": 23,
   "metadata": {},
   "outputs": [],
   "source": [
    "our_filtered_repos = our_repos[our_repos[\"size\"] < 70708]"
   ]
  },
  {
   "cell_type": "code",
   "execution_count": 24,
   "metadata": {},
   "outputs": [
    {
     "output_type": "execute_result",
     "data": {
      "text/plain": [
       "648023"
      ]
     },
     "metadata": {},
     "execution_count": 24
    }
   ],
   "source": [
    "# Combine our repos and EleutherAI's repos\n",
    "def combine_repos(ours, eleuthers):\n",
    "    # Combine our repos\n",
    "    combined = pd.concat(\n",
    "        [ours, eleuthers],\n",
    "    )\n",
    "\n",
    "    # Remove duplicate repos\n",
    "    dedup_combined = combined[~combined[\"name\"].duplicated(keep=\"last\")]\n",
    "    return dedup_combined\n",
    "\n",
    "combined = combine_repos(our_filtered_repos, eleuther_repos)\n",
    "len(combined)"
   ]
  },
  {
   "cell_type": "code",
   "execution_count": 25,
   "metadata": {},
   "outputs": [],
   "source": [
    "combined.to_csv(data_path/\"combined_repos_size_filtered.csv\", index=False)"
   ]
  },
  {
   "cell_type": "code",
   "execution_count": 7,
   "metadata": {},
   "outputs": [
    {
     "output_type": "stream",
     "name": "stderr",
     "text": [
      "/home/nathan/.local/lib/python3.8/site-packages/IPython/core/interactiveshell.py:3441: DtypeWarning: Columns (1,3,4,6,7,12,13,14,15,16,17,18,19,20,21,22,23,24,26) have mixed types.Specify dtype option on import or set low_memory=False.\n  exec(code_obj, self.user_global_ns, self.user_ns)\n"
     ]
    }
   ],
   "source": [
    "combined = pd.read_csv(data_path/\"combined_repos_size_filtered.csv\")"
   ]
  },
  {
   "source": [
    "Shard the dataset into manageable pieces since EleutherAI's downloader has a memory leak."
   ],
   "cell_type": "markdown",
   "metadata": {}
  },
  {
   "cell_type": "code",
   "execution_count": 42,
   "metadata": {},
   "outputs": [],
   "source": [
    "N_SHARDS = 24\n",
    "\n",
    "shards = np.array_split(combined, N_SHARDS)\n",
    "lens = list(map(len, shards))\n",
    "assert sum(lens) == len(combined)"
   ]
  },
  {
   "cell_type": "code",
   "execution_count": 44,
   "metadata": {},
   "outputs": [],
   "source": [
    "for idx, shard in enumerate(shards):\n",
    "    shard.to_csv(data_path/f\"shards/combined_repos_shard_{idx}\", index=False)"
   ]
  },
  {
   "cell_type": "code",
   "execution_count": 45,
   "metadata": {},
   "outputs": [
    {
     "output_type": "execute_result",
     "data": {
      "text/plain": [
       "                                name fork project  commits branches  \\\n",
       "0                0-1-0/lightblue-0.4        False      8.0        1   \n",
       "1                       0-14n/ndroid        False    131.0        1   \n",
       "3                   0-sec/zero-crack        False      4.0        1   \n",
       "4  0-tikaro/minimum-viable-startpage        False     15.0        1   \n",
       "5           0-u-0/dugon-media-server        False     52.0        1   \n",
       "\n",
       "  default branch  releases contributors                          license  \\\n",
       "0         master       0.0            4  GNU General Public License v3.0   \n",
       "1         master       0.0            2                            Other   \n",
       "3           main       1.0            1  GNU General Public License v3.0   \n",
       "4         master       0.0            ?                      MIT License   \n",
       "5         master       5.0            ?                      MIT License   \n",
       "\n",
       "   watchers  stargazers  ...  total issues  open issues total pull requests  \\\n",
       "0      14.0          86  ...             9            8                   5   \n",
       "1       5.0          50  ...             1            1                   2   \n",
       "3       0.0          62  ...             0            0                   0   \n",
       "4       4.0          56  ...             0            0                   2   \n",
       "5       2.0          14  ...             5            1                   0   \n",
       "\n",
       "  open pull requests            last commit  \\\n",
       "0                  0  2020-10-18 21:26:07.0   \n",
       "1                  1  2015-03-17 13:10:07.0   \n",
       "3                  0  2021-05-12 02:03:08.0   \n",
       "4                  1  2019-04-21 09:11:12.0   \n",
       "5                  0  2020-05-16 04:11:45.0   \n",
       "\n",
       "                            last commit SHA has wiki is archived  \\\n",
       "0  9a4f7b37e923b262d2a29894676ff8ed8cde6237     True       False   \n",
       "1  4e5dbe69855a7fda8b74e61d9db5aa61e6ba9ee8     True       False   \n",
       "3  70ee16550a81b396333565515723d5abab87c719     True       False   \n",
       "4  a4fb4aea4474d635c4e4738f7d8c1a485d5d74c8     True       False   \n",
       "5  1d6bb1c589e51d2c34b11be20d34dae4bb0c7779     True       False   \n",
       "\n",
       "                                           languages  \\\n",
       "0                                                NaN   \n",
       "1  C,C++,Objective-C,Shell,Assembly,Haxe,Groff,Py...   \n",
       "3                                             Python   \n",
       "4                                JavaScript,CSS,HTML   \n",
       "5                              JavaScript,Dockerfile   \n",
       "\n",
       "                                              labels  \n",
       "0                                                NaN  \n",
       "1  bug,duplicate,enhancement,help wanted,invalid,...  \n",
       "3  bug,documentation,duplicate,enhancement,good f...  \n",
       "4  bug,duplicate,enhancement,good first issue,hel...  \n",
       "5  bug,documentation,duplicate,enhancement,featur...  \n",
       "\n",
       "[5 rows x 27 columns]"
      ],
      "text/html": "<div>\n<style scoped>\n    .dataframe tbody tr th:only-of-type {\n        vertical-align: middle;\n    }\n\n    .dataframe tbody tr th {\n        vertical-align: top;\n    }\n\n    .dataframe thead th {\n        text-align: right;\n    }\n</style>\n<table border=\"1\" class=\"dataframe\">\n  <thead>\n    <tr style=\"text-align: right;\">\n      <th></th>\n      <th>name</th>\n      <th>fork project</th>\n      <th>commits</th>\n      <th>branches</th>\n      <th>default branch</th>\n      <th>releases</th>\n      <th>contributors</th>\n      <th>license</th>\n      <th>watchers</th>\n      <th>stargazers</th>\n      <th>...</th>\n      <th>total issues</th>\n      <th>open issues</th>\n      <th>total pull requests</th>\n      <th>open pull requests</th>\n      <th>last commit</th>\n      <th>last commit SHA</th>\n      <th>has wiki</th>\n      <th>is archived</th>\n      <th>languages</th>\n      <th>labels</th>\n    </tr>\n  </thead>\n  <tbody>\n    <tr>\n      <th>0</th>\n      <td>0-1-0/lightblue-0.4</td>\n      <td>False</td>\n      <td>8.0</td>\n      <td>1</td>\n      <td>master</td>\n      <td>0.0</td>\n      <td>4</td>\n      <td>GNU General Public License v3.0</td>\n      <td>14.0</td>\n      <td>86</td>\n      <td>...</td>\n      <td>9</td>\n      <td>8</td>\n      <td>5</td>\n      <td>0</td>\n      <td>2020-10-18 21:26:07.0</td>\n      <td>9a4f7b37e923b262d2a29894676ff8ed8cde6237</td>\n      <td>True</td>\n      <td>False</td>\n      <td>NaN</td>\n      <td>NaN</td>\n    </tr>\n    <tr>\n      <th>1</th>\n      <td>0-14n/ndroid</td>\n      <td>False</td>\n      <td>131.0</td>\n      <td>1</td>\n      <td>master</td>\n      <td>0.0</td>\n      <td>2</td>\n      <td>Other</td>\n      <td>5.0</td>\n      <td>50</td>\n      <td>...</td>\n      <td>1</td>\n      <td>1</td>\n      <td>2</td>\n      <td>1</td>\n      <td>2015-03-17 13:10:07.0</td>\n      <td>4e5dbe69855a7fda8b74e61d9db5aa61e6ba9ee8</td>\n      <td>True</td>\n      <td>False</td>\n      <td>C,C++,Objective-C,Shell,Assembly,Haxe,Groff,Py...</td>\n      <td>bug,duplicate,enhancement,help wanted,invalid,...</td>\n    </tr>\n    <tr>\n      <th>3</th>\n      <td>0-sec/zero-crack</td>\n      <td>False</td>\n      <td>4.0</td>\n      <td>1</td>\n      <td>main</td>\n      <td>1.0</td>\n      <td>1</td>\n      <td>GNU General Public License v3.0</td>\n      <td>0.0</td>\n      <td>62</td>\n      <td>...</td>\n      <td>0</td>\n      <td>0</td>\n      <td>0</td>\n      <td>0</td>\n      <td>2021-05-12 02:03:08.0</td>\n      <td>70ee16550a81b396333565515723d5abab87c719</td>\n      <td>True</td>\n      <td>False</td>\n      <td>Python</td>\n      <td>bug,documentation,duplicate,enhancement,good f...</td>\n    </tr>\n    <tr>\n      <th>4</th>\n      <td>0-tikaro/minimum-viable-startpage</td>\n      <td>False</td>\n      <td>15.0</td>\n      <td>1</td>\n      <td>master</td>\n      <td>0.0</td>\n      <td>?</td>\n      <td>MIT License</td>\n      <td>4.0</td>\n      <td>56</td>\n      <td>...</td>\n      <td>0</td>\n      <td>0</td>\n      <td>2</td>\n      <td>1</td>\n      <td>2019-04-21 09:11:12.0</td>\n      <td>a4fb4aea4474d635c4e4738f7d8c1a485d5d74c8</td>\n      <td>True</td>\n      <td>False</td>\n      <td>JavaScript,CSS,HTML</td>\n      <td>bug,duplicate,enhancement,good first issue,hel...</td>\n    </tr>\n    <tr>\n      <th>5</th>\n      <td>0-u-0/dugon-media-server</td>\n      <td>False</td>\n      <td>52.0</td>\n      <td>1</td>\n      <td>master</td>\n      <td>5.0</td>\n      <td>?</td>\n      <td>MIT License</td>\n      <td>2.0</td>\n      <td>14</td>\n      <td>...</td>\n      <td>5</td>\n      <td>1</td>\n      <td>0</td>\n      <td>0</td>\n      <td>2020-05-16 04:11:45.0</td>\n      <td>1d6bb1c589e51d2c34b11be20d34dae4bb0c7779</td>\n      <td>True</td>\n      <td>False</td>\n      <td>JavaScript,Dockerfile</td>\n      <td>bug,documentation,duplicate,enhancement,featur...</td>\n    </tr>\n  </tbody>\n</table>\n<p>5 rows × 27 columns</p>\n</div>"
     },
     "metadata": {},
     "execution_count": 45
    }
   ],
   "source": [
    "combined.head()"
   ]
  },
  {
   "cell_type": "code",
   "execution_count": 5,
   "metadata": {},
   "outputs": [],
   "source": [
    "def convert_to_gh_downloader(df, path):\n",
    "    # select only name, stargazers, and languages columns and save to path\n",
    "    df = df[['name', 'stargazers', 'languages']]\n",
    "    df.to_csv(path/\"combined_github_repositories.csv\", index=False, header=False)\n",
    "\n",
    "convert_to_gh_downloader(combined.head(200_000), github_downloader_path)"
   ]
  },
  {
   "cell_type": "markdown",
   "metadata": {},
   "source": [
    "Once you've converted the combined data to the proper format, change directory to the `github-downloader` repository, install the requirements `pip install python-magic fire tqdm requests lm-dataformat` (the `requirements.txt` doesn't work) and decompression tool `sudo apt install zstd`, edit the file `download_repo_text.py` so that it reads the file `combined_github_repositories.csv` rather than `github_repositories.csv`, and run that file. This will generate a bunch of `json.zst` files containing the text of all the files in the repositories and their metadata (the repo and file it came from). Next decompress the files `zstd -d <file_path>` so that you can read them using pandas."
   ]
  },
  {
   "cell_type": "code",
   "execution_count": 44,
   "metadata": {},
   "outputs": [],
   "source": [
    "text_df = pd.read_json(github_downloader_path/\"github_data/data_0_time1625430673_default.jsonl\", orient=\"records\",lines=True)"
   ]
  },
  {
   "cell_type": "code",
   "execution_count": 45,
   "metadata": {},
   "outputs": [
    {
     "data": {
      "text/html": [
       "<div>\n",
       "<style scoped>\n",
       "    .dataframe tbody tr th:only-of-type {\n",
       "        vertical-align: middle;\n",
       "    }\n",
       "\n",
       "    .dataframe tbody tr th {\n",
       "        vertical-align: top;\n",
       "    }\n",
       "\n",
       "    .dataframe thead th {\n",
       "        text-align: right;\n",
       "    }\n",
       "</style>\n",
       "<table border=\"1\" class=\"dataframe\">\n",
       "  <thead>\n",
       "    <tr style=\"text-align: right;\">\n",
       "      <th></th>\n",
       "      <th>text</th>\n",
       "      <th>meta</th>\n",
       "    </tr>\n",
       "  </thead>\n",
       "  <tbody>\n",
       "    <tr>\n",
       "      <th>0</th>\n",
       "      <td>{\\n  \"name\": \"dugon-media-server\",\\n  \"version...</td>\n",
       "      <td>{'repo_name': '0-u-0/dugon-media-server', 'sta...</td>\n",
       "    </tr>\n",
       "    <tr>\n",
       "      <th>1</th>\n",
       "      <td>\\nconst DEFAULT_CONFIG_PATH = './config';\\ncon...</td>\n",
       "      <td>{'repo_name': '0-u-0/dugon-media-server', 'sta...</td>\n",
       "    </tr>\n",
       "    <tr>\n",
       "      <th>2</th>\n",
       "      <td>module.exports = {\\n  debug: true,\\n  id: \"foo...</td>\n",
       "      <td>{'repo_name': '0-u-0/dugon-media-server', 'sta...</td>\n",
       "    </tr>\n",
       "    <tr>\n",
       "      <th>3</th>\n",
       "      <td># Dugon Signal Server (Javascript)\\n\\n[![GitHu...</td>\n",
       "      <td>{'repo_name': '0-u-0/dugon-media-server', 'sta...</td>\n",
       "    </tr>\n",
       "    <tr>\n",
       "      <th>4</th>\n",
       "      <td>FROM node:carbon\\n\\nRUN \\\\n\\tset -x \\\\n\\t&amp;&amp; ap...</td>\n",
       "      <td>{'repo_name': '0-u-0/dugon-media-server', 'sta...</td>\n",
       "    </tr>\n",
       "  </tbody>\n",
       "</table>\n",
       "</div>"
      ],
      "text/plain": [
       "                                                text  \\\n",
       "0  {\\n  \"name\": \"dugon-media-server\",\\n  \"version...   \n",
       "1  \\nconst DEFAULT_CONFIG_PATH = './config';\\ncon...   \n",
       "2  module.exports = {\\n  debug: true,\\n  id: \"foo...   \n",
       "3  # Dugon Signal Server (Javascript)\\n\\n[![GitHu...   \n",
       "4  FROM node:carbon\\n\\nRUN \\\\n\\tset -x \\\\n\\t&& ap...   \n",
       "\n",
       "                                                meta  \n",
       "0  {'repo_name': '0-u-0/dugon-media-server', 'sta...  \n",
       "1  {'repo_name': '0-u-0/dugon-media-server', 'sta...  \n",
       "2  {'repo_name': '0-u-0/dugon-media-server', 'sta...  \n",
       "3  {'repo_name': '0-u-0/dugon-media-server', 'sta...  \n",
       "4  {'repo_name': '0-u-0/dugon-media-server', 'sta...  "
      ]
     },
     "execution_count": 45,
     "metadata": {},
     "output_type": "execute_result"
    }
   ],
   "source": [
    "text_df.head()"
   ]
  },
  {
   "cell_type": "code",
   "execution_count": null,
   "metadata": {},
   "outputs": [],
   "source": [
    "print(text_df.text.values[100])"
   ]
  },
  {
   "cell_type": "code",
   "execution_count": 49,
   "metadata": {},
   "outputs": [
    {
     "data": {
      "text/plain": [
       "2045"
      ]
     },
     "execution_count": 49,
     "metadata": {},
     "output_type": "execute_result"
    }
   ],
   "source": [
    "len(text_df)"
   ]
  },
  {
   "cell_type": "code",
   "execution_count": 3,
   "metadata": {},
   "outputs": [
    {
     "name": "stderr",
     "output_type": "stream",
     "text": [
      "{\"level\":\"warn\",\"ts\":1625538732.958198,\"caller\":\"roundtripper/rate_limit.go:58\",\"msg\":\"Rate limit exceeded. Waiting 49m9.041814722s to retry...\"}\n"
     ]
    },
    {
     "ename": "KeyboardInterrupt",
     "evalue": "",
     "output_type": "error",
     "traceback": [
      "\u001b[0;31m---------------------------------------------------------------------------\u001b[0m",
      "\u001b[0;31mKeyboardInterrupt\u001b[0m                         Traceback (most recent call last)",
      "\u001b[0;32m/tmp/ipykernel_391514/951878845.py\u001b[0m in \u001b[0;36m<module>\u001b[0;34m\u001b[0m\n\u001b[1;32m      4\u001b[0m \u001b[0;34m\u001b[0m\u001b[0m\n\u001b[1;32m      5\u001b[0m \u001b[0;32mtry\u001b[0m\u001b[0;34m:\u001b[0m\u001b[0;34m\u001b[0m\u001b[0;34m\u001b[0m\u001b[0m\n\u001b[0;32m----> 6\u001b[0;31m     results = check_output(\n\u001b[0m\u001b[1;32m      7\u001b[0m         [\n\u001b[1;32m      8\u001b[0m             \u001b[0mscorecard_path\u001b[0m\u001b[0;34m,\u001b[0m\u001b[0;34m\u001b[0m\u001b[0;34m\u001b[0m\u001b[0m\n",
      "\u001b[0;32m/usr/lib/python3.8/subprocess.py\u001b[0m in \u001b[0;36mcheck_output\u001b[0;34m(timeout, *popenargs, **kwargs)\u001b[0m\n\u001b[1;32m    413\u001b[0m         \u001b[0mkwargs\u001b[0m\u001b[0;34m[\u001b[0m\u001b[0;34m'input'\u001b[0m\u001b[0;34m]\u001b[0m \u001b[0;34m=\u001b[0m \u001b[0mempty\u001b[0m\u001b[0;34m\u001b[0m\u001b[0;34m\u001b[0m\u001b[0m\n\u001b[1;32m    414\u001b[0m \u001b[0;34m\u001b[0m\u001b[0m\n\u001b[0;32m--> 415\u001b[0;31m     return run(*popenargs, stdout=PIPE, timeout=timeout, check=True,\n\u001b[0m\u001b[1;32m    416\u001b[0m                **kwargs).stdout\n\u001b[1;32m    417\u001b[0m \u001b[0;34m\u001b[0m\u001b[0m\n",
      "\u001b[0;32m/usr/lib/python3.8/subprocess.py\u001b[0m in \u001b[0;36mrun\u001b[0;34m(input, capture_output, timeout, check, *popenargs, **kwargs)\u001b[0m\n\u001b[1;32m    493\u001b[0m     \u001b[0;32mwith\u001b[0m \u001b[0mPopen\u001b[0m\u001b[0;34m(\u001b[0m\u001b[0;34m*\u001b[0m\u001b[0mpopenargs\u001b[0m\u001b[0;34m,\u001b[0m \u001b[0;34m**\u001b[0m\u001b[0mkwargs\u001b[0m\u001b[0;34m)\u001b[0m \u001b[0;32mas\u001b[0m \u001b[0mprocess\u001b[0m\u001b[0;34m:\u001b[0m\u001b[0;34m\u001b[0m\u001b[0;34m\u001b[0m\u001b[0m\n\u001b[1;32m    494\u001b[0m         \u001b[0;32mtry\u001b[0m\u001b[0;34m:\u001b[0m\u001b[0;34m\u001b[0m\u001b[0;34m\u001b[0m\u001b[0m\n\u001b[0;32m--> 495\u001b[0;31m             \u001b[0mstdout\u001b[0m\u001b[0;34m,\u001b[0m \u001b[0mstderr\u001b[0m \u001b[0;34m=\u001b[0m \u001b[0mprocess\u001b[0m\u001b[0;34m.\u001b[0m\u001b[0mcommunicate\u001b[0m\u001b[0;34m(\u001b[0m\u001b[0minput\u001b[0m\u001b[0;34m,\u001b[0m \u001b[0mtimeout\u001b[0m\u001b[0;34m=\u001b[0m\u001b[0mtimeout\u001b[0m\u001b[0;34m)\u001b[0m\u001b[0;34m\u001b[0m\u001b[0;34m\u001b[0m\u001b[0m\n\u001b[0m\u001b[1;32m    496\u001b[0m         \u001b[0;32mexcept\u001b[0m \u001b[0mTimeoutExpired\u001b[0m \u001b[0;32mas\u001b[0m \u001b[0mexc\u001b[0m\u001b[0;34m:\u001b[0m\u001b[0;34m\u001b[0m\u001b[0;34m\u001b[0m\u001b[0m\n\u001b[1;32m    497\u001b[0m             \u001b[0mprocess\u001b[0m\u001b[0;34m.\u001b[0m\u001b[0mkill\u001b[0m\u001b[0;34m(\u001b[0m\u001b[0;34m)\u001b[0m\u001b[0;34m\u001b[0m\u001b[0;34m\u001b[0m\u001b[0m\n",
      "\u001b[0;32m/usr/lib/python3.8/subprocess.py\u001b[0m in \u001b[0;36mcommunicate\u001b[0;34m(self, input, timeout)\u001b[0m\n\u001b[1;32m   1013\u001b[0m                 \u001b[0mself\u001b[0m\u001b[0;34m.\u001b[0m\u001b[0m_stdin_write\u001b[0m\u001b[0;34m(\u001b[0m\u001b[0minput\u001b[0m\u001b[0;34m)\u001b[0m\u001b[0;34m\u001b[0m\u001b[0;34m\u001b[0m\u001b[0m\n\u001b[1;32m   1014\u001b[0m             \u001b[0;32melif\u001b[0m \u001b[0mself\u001b[0m\u001b[0;34m.\u001b[0m\u001b[0mstdout\u001b[0m\u001b[0;34m:\u001b[0m\u001b[0;34m\u001b[0m\u001b[0;34m\u001b[0m\u001b[0m\n\u001b[0;32m-> 1015\u001b[0;31m                 \u001b[0mstdout\u001b[0m \u001b[0;34m=\u001b[0m \u001b[0mself\u001b[0m\u001b[0;34m.\u001b[0m\u001b[0mstdout\u001b[0m\u001b[0;34m.\u001b[0m\u001b[0mread\u001b[0m\u001b[0;34m(\u001b[0m\u001b[0;34m)\u001b[0m\u001b[0;34m\u001b[0m\u001b[0;34m\u001b[0m\u001b[0m\n\u001b[0m\u001b[1;32m   1016\u001b[0m                 \u001b[0mself\u001b[0m\u001b[0;34m.\u001b[0m\u001b[0mstdout\u001b[0m\u001b[0;34m.\u001b[0m\u001b[0mclose\u001b[0m\u001b[0;34m(\u001b[0m\u001b[0;34m)\u001b[0m\u001b[0;34m\u001b[0m\u001b[0;34m\u001b[0m\u001b[0m\n\u001b[1;32m   1017\u001b[0m             \u001b[0;32melif\u001b[0m \u001b[0mself\u001b[0m\u001b[0;34m.\u001b[0m\u001b[0mstderr\u001b[0m\u001b[0;34m:\u001b[0m\u001b[0;34m\u001b[0m\u001b[0;34m\u001b[0m\u001b[0m\n",
      "\u001b[0;31mKeyboardInterrupt\u001b[0m: "
     ]
    }
   ],
   "source": [
    "from subprocess import CalledProcessError, check_output\n",
    "\n",
    "scorecard_path = Path(\"../scripts/scorecard\")\n",
    "\n",
    "try:\n",
    "    results = check_output(\n",
    "        [\n",
    "            scorecard_path,\n",
    "            f\"--repo=github.com/kubernetes/kubernetes\",\n",
    "            \"--checks=Vulnerabilities\",\n",
    "            \"--format=csv\",\n",
    "        ]\n",
    "    ).decode(\"utf-8\")\n",
    "except CalledProcessError as e:\n",
    "    # Exception thrown when the method is malformed, i.e, it is missing a curly brace\n",
    "    error = e.output.decode(\"utf-8\")"
   ]
  },
  {
   "cell_type": "code",
   "execution_count": null,
   "metadata": {},
   "outputs": [],
   "source": []
  }
 ],
 "metadata": {
  "interpreter": {
   "hash": "31f2aee4e71d21fbe5cf8b01ff0e069b9275f58929596ceb00d14d90e3e16cd6"
  },
  "kernelspec": {
   "name": "python3",
   "display_name": "Python 3.8.10 64-bit"
  },
  "language_info": {
   "codemirror_mode": {
    "name": "ipython",
    "version": 3
   },
   "file_extension": ".py",
   "mimetype": "text/x-python",
   "name": "python",
   "nbconvert_exporter": "python",
   "pygments_lexer": "ipython3",
   "version": "3.8.10"
  },
  "orig_nbformat": 4
 },
 "nbformat": 4,
 "nbformat_minor": 2
}